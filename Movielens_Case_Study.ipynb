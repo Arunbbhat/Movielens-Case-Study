{
  "nbformat": 4,
  "nbformat_minor": 0,
  "metadata": {
    "colab": {
      "provenance": [],
      "authorship_tag": "ABX9TyPhOsGNElFAfIQGofRJbvKV",
      "include_colab_link": true
    },
    "kernelspec": {
      "name": "python3",
      "display_name": "Python 3"
    },
    "language_info": {
      "name": "python"
    }
  },
  "cells": [
    {
      "cell_type": "markdown",
      "metadata": {
        "id": "view-in-github",
        "colab_type": "text"
      },
      "source": [
        "<a href=\"https://colab.research.google.com/github/Arunbbhat/Movielens-Case-Study/blob/main/Movielens_Case_Study.ipynb\" target=\"_parent\"><img src=\"https://colab.research.google.com/assets/colab-badge.svg\" alt=\"Open In Colab\"/></a>"
      ]
    },
    {
      "cell_type": "code",
      "execution_count": 45,
      "metadata": {
        "id": "-Qni7N4ebtyw"
      },
      "outputs": [],
      "source": [
        "\n",
        "#importing pandas dataframe\n",
        "import pandas as pd\n",
        "\n",
        "import warnings\n",
        "warnings.filterwarnings('ignore')\n",
        "\n",
        "#importing seaborn\n",
        "import seaborn as sns\n",
        "\n",
        "#importing pandas profiling \n",
        "import pandas_profiling as pf\n",
        "\n",
        "#importing matplolib\n",
        "import matplotlib\n",
        "import matplotlib.pyplot as plt\n",
        "%matplotlib inline \n",
        "\n",
        "#importing reg-ex\n",
        "import re\n",
        "\n",
        "#Hold out method for splitting data\n",
        "from sklearn.model_selection import train_test_split\n",
        "\n",
        "#importing accuracy_score \n",
        "from sklearn.metrics import accuracy_score \n",
        "\n",
        "#importing LGBMClassifier \n",
        "from lightgbm import LGBMClassifier\n",
        "\n",
        "#importing xgboost\n",
        "import xgboost"
      ]
    },
    {
      "cell_type": "code",
      "source": [
        "rating = ['UserID','MovieID','Rating','Timestamp']\n",
        "user = ['UserID','Gender','Age','Occupation','Zip-code']\n",
        "movie = ['MovieID','Title','Genres']"
      ],
      "metadata": {
        "id": "aWT1yyQ9cnie"
      },
      "execution_count": 5,
      "outputs": []
    },
    {
      "cell_type": "code",
      "source": [
        "rating_df = pd.read_csv('/content/Movie/ratings.dat',header=None,delimiter='::',names=rating)\n",
        "print(rating_df.head())\n",
        "\n",
        "print(rating_df.shape)"
      ],
      "metadata": {
        "colab": {
          "base_uri": "https://localhost:8080/"
        },
        "id": "I33kxEM1cuTV",
        "outputId": "88595f6b-3b9b-4c66-9c84-0dcb5447bfb5"
      },
      "execution_count": 6,
      "outputs": [
        {
          "output_type": "stream",
          "name": "stdout",
          "text": [
            "   UserID  MovieID  Rating  Timestamp\n",
            "0       1     1193       5  978300760\n",
            "1       1      661       3  978302109\n",
            "2       1      914       3  978301968\n",
            "3       1     3408       4  978300275\n",
            "4       1     2355       5  978824291\n",
            "(1000209, 4)\n"
          ]
        }
      ]
    },
    {
      "cell_type": "code",
      "source": [
        "user_df = pd.read_csv('/content/Movie/users.dat',header=None,delimiter='::',names=user)\n",
        "print(user_df.head())\n",
        "\n",
        "print(user_df.shape)"
      ],
      "metadata": {
        "colab": {
          "base_uri": "https://localhost:8080/"
        },
        "id": "wHPC-LhVc_YG",
        "outputId": "5bce48ba-40eb-4f39-88cd-cc02164de30c"
      },
      "execution_count": 7,
      "outputs": [
        {
          "output_type": "stream",
          "name": "stdout",
          "text": [
            "   UserID Gender  Age  Occupation Zip-code\n",
            "0       1      F    1          10    48067\n",
            "1       2      M   56          16    70072\n",
            "2       3      M   25          15    55117\n",
            "3       4      M   45           7    02460\n",
            "4       5      M   25          20    55455\n",
            "(6040, 5)\n"
          ]
        }
      ]
    },
    {
      "cell_type": "code",
      "source": [
        "movie_df = pd.read_csv('/content/Movie/movies.dat',header=None,delimiter='::',names=movie)\n",
        "print(movie_df.head())\n",
        "print()\n",
        "print(movie_df.shape)"
      ],
      "metadata": {
        "colab": {
          "base_uri": "https://localhost:8080/"
        },
        "id": "kQl-bSs6dPvk",
        "outputId": "643aeceb-e65e-487a-d0ec-e4a5e13059b6"
      },
      "execution_count": 8,
      "outputs": [
        {
          "output_type": "stream",
          "name": "stdout",
          "text": [
            "   MovieID                               Title                        Genres\n",
            "0        1                    Toy Story (1995)   Animation|Children's|Comedy\n",
            "1        2                      Jumanji (1995)  Adventure|Children's|Fantasy\n",
            "2        3             Grumpier Old Men (1995)                Comedy|Romance\n",
            "3        4            Waiting to Exhale (1995)                  Comedy|Drama\n",
            "4        5  Father of the Bride Part II (1995)                        Comedy\n",
            "\n",
            "(3883, 3)\n"
          ]
        }
      ]
    },
    {
      "cell_type": "markdown",
      "source": [
        "**Mearging 3 Datasets**"
      ],
      "metadata": {
        "id": "rg_8p8ZAg3K0"
      }
    },
    {
      "cell_type": "code",
      "source": [
        "df = rating_df.merge(user_df,how='outer',on='UserID')\n",
        "df = df.merge(movie_df,how='outer',on='MovieID')\n",
        "df.head()"
      ],
      "metadata": {
        "colab": {
          "base_uri": "https://localhost:8080/",
          "height": 354
        },
        "id": "iBwjaBWVgYHJ",
        "outputId": "9ce3973a-29b1-462b-d575-e1df2fa54ff8"
      },
      "execution_count": 9,
      "outputs": [
        {
          "output_type": "execute_result",
          "data": {
            "text/plain": [
              "   UserID  MovieID  Rating    Timestamp Gender   Age  Occupation Zip-code  \\\n",
              "0     1.0     1193     5.0  978300760.0      F   1.0        10.0    48067   \n",
              "1     2.0     1193     5.0  978298413.0      M  56.0        16.0    70072   \n",
              "2    12.0     1193     4.0  978220179.0      M  25.0        12.0    32793   \n",
              "3    15.0     1193     4.0  978199279.0      M  25.0         7.0    22903   \n",
              "4    17.0     1193     5.0  978158471.0      M  50.0         1.0    95350   \n",
              "\n",
              "                                    Title Genres  \n",
              "0  One Flew Over the Cuckoo's Nest (1975)  Drama  \n",
              "1  One Flew Over the Cuckoo's Nest (1975)  Drama  \n",
              "2  One Flew Over the Cuckoo's Nest (1975)  Drama  \n",
              "3  One Flew Over the Cuckoo's Nest (1975)  Drama  \n",
              "4  One Flew Over the Cuckoo's Nest (1975)  Drama  "
            ],
            "text/html": [
              "\n",
              "  <div id=\"df-9f5435ea-211c-4761-a003-7fac12650453\">\n",
              "    <div class=\"colab-df-container\">\n",
              "      <div>\n",
              "<style scoped>\n",
              "    .dataframe tbody tr th:only-of-type {\n",
              "        vertical-align: middle;\n",
              "    }\n",
              "\n",
              "    .dataframe tbody tr th {\n",
              "        vertical-align: top;\n",
              "    }\n",
              "\n",
              "    .dataframe thead th {\n",
              "        text-align: right;\n",
              "    }\n",
              "</style>\n",
              "<table border=\"1\" class=\"dataframe\">\n",
              "  <thead>\n",
              "    <tr style=\"text-align: right;\">\n",
              "      <th></th>\n",
              "      <th>UserID</th>\n",
              "      <th>MovieID</th>\n",
              "      <th>Rating</th>\n",
              "      <th>Timestamp</th>\n",
              "      <th>Gender</th>\n",
              "      <th>Age</th>\n",
              "      <th>Occupation</th>\n",
              "      <th>Zip-code</th>\n",
              "      <th>Title</th>\n",
              "      <th>Genres</th>\n",
              "    </tr>\n",
              "  </thead>\n",
              "  <tbody>\n",
              "    <tr>\n",
              "      <th>0</th>\n",
              "      <td>1.0</td>\n",
              "      <td>1193</td>\n",
              "      <td>5.0</td>\n",
              "      <td>978300760.0</td>\n",
              "      <td>F</td>\n",
              "      <td>1.0</td>\n",
              "      <td>10.0</td>\n",
              "      <td>48067</td>\n",
              "      <td>One Flew Over the Cuckoo's Nest (1975)</td>\n",
              "      <td>Drama</td>\n",
              "    </tr>\n",
              "    <tr>\n",
              "      <th>1</th>\n",
              "      <td>2.0</td>\n",
              "      <td>1193</td>\n",
              "      <td>5.0</td>\n",
              "      <td>978298413.0</td>\n",
              "      <td>M</td>\n",
              "      <td>56.0</td>\n",
              "      <td>16.0</td>\n",
              "      <td>70072</td>\n",
              "      <td>One Flew Over the Cuckoo's Nest (1975)</td>\n",
              "      <td>Drama</td>\n",
              "    </tr>\n",
              "    <tr>\n",
              "      <th>2</th>\n",
              "      <td>12.0</td>\n",
              "      <td>1193</td>\n",
              "      <td>4.0</td>\n",
              "      <td>978220179.0</td>\n",
              "      <td>M</td>\n",
              "      <td>25.0</td>\n",
              "      <td>12.0</td>\n",
              "      <td>32793</td>\n",
              "      <td>One Flew Over the Cuckoo's Nest (1975)</td>\n",
              "      <td>Drama</td>\n",
              "    </tr>\n",
              "    <tr>\n",
              "      <th>3</th>\n",
              "      <td>15.0</td>\n",
              "      <td>1193</td>\n",
              "      <td>4.0</td>\n",
              "      <td>978199279.0</td>\n",
              "      <td>M</td>\n",
              "      <td>25.0</td>\n",
              "      <td>7.0</td>\n",
              "      <td>22903</td>\n",
              "      <td>One Flew Over the Cuckoo's Nest (1975)</td>\n",
              "      <td>Drama</td>\n",
              "    </tr>\n",
              "    <tr>\n",
              "      <th>4</th>\n",
              "      <td>17.0</td>\n",
              "      <td>1193</td>\n",
              "      <td>5.0</td>\n",
              "      <td>978158471.0</td>\n",
              "      <td>M</td>\n",
              "      <td>50.0</td>\n",
              "      <td>1.0</td>\n",
              "      <td>95350</td>\n",
              "      <td>One Flew Over the Cuckoo's Nest (1975)</td>\n",
              "      <td>Drama</td>\n",
              "    </tr>\n",
              "  </tbody>\n",
              "</table>\n",
              "</div>\n",
              "      <button class=\"colab-df-convert\" onclick=\"convertToInteractive('df-9f5435ea-211c-4761-a003-7fac12650453')\"\n",
              "              title=\"Convert this dataframe to an interactive table.\"\n",
              "              style=\"display:none;\">\n",
              "        \n",
              "  <svg xmlns=\"http://www.w3.org/2000/svg\" height=\"24px\"viewBox=\"0 0 24 24\"\n",
              "       width=\"24px\">\n",
              "    <path d=\"M0 0h24v24H0V0z\" fill=\"none\"/>\n",
              "    <path d=\"M18.56 5.44l.94 2.06.94-2.06 2.06-.94-2.06-.94-.94-2.06-.94 2.06-2.06.94zm-11 1L8.5 8.5l.94-2.06 2.06-.94-2.06-.94L8.5 2.5l-.94 2.06-2.06.94zm10 10l.94 2.06.94-2.06 2.06-.94-2.06-.94-.94-2.06-.94 2.06-2.06.94z\"/><path d=\"M17.41 7.96l-1.37-1.37c-.4-.4-.92-.59-1.43-.59-.52 0-1.04.2-1.43.59L10.3 9.45l-7.72 7.72c-.78.78-.78 2.05 0 2.83L4 21.41c.39.39.9.59 1.41.59.51 0 1.02-.2 1.41-.59l7.78-7.78 2.81-2.81c.8-.78.8-2.07 0-2.86zM5.41 20L4 18.59l7.72-7.72 1.47 1.35L5.41 20z\"/>\n",
              "  </svg>\n",
              "      </button>\n",
              "      \n",
              "  <style>\n",
              "    .colab-df-container {\n",
              "      display:flex;\n",
              "      flex-wrap:wrap;\n",
              "      gap: 12px;\n",
              "    }\n",
              "\n",
              "    .colab-df-convert {\n",
              "      background-color: #E8F0FE;\n",
              "      border: none;\n",
              "      border-radius: 50%;\n",
              "      cursor: pointer;\n",
              "      display: none;\n",
              "      fill: #1967D2;\n",
              "      height: 32px;\n",
              "      padding: 0 0 0 0;\n",
              "      width: 32px;\n",
              "    }\n",
              "\n",
              "    .colab-df-convert:hover {\n",
              "      background-color: #E2EBFA;\n",
              "      box-shadow: 0px 1px 2px rgba(60, 64, 67, 0.3), 0px 1px 3px 1px rgba(60, 64, 67, 0.15);\n",
              "      fill: #174EA6;\n",
              "    }\n",
              "\n",
              "    [theme=dark] .colab-df-convert {\n",
              "      background-color: #3B4455;\n",
              "      fill: #D2E3FC;\n",
              "    }\n",
              "\n",
              "    [theme=dark] .colab-df-convert:hover {\n",
              "      background-color: #434B5C;\n",
              "      box-shadow: 0px 1px 3px 1px rgba(0, 0, 0, 0.15);\n",
              "      filter: drop-shadow(0px 1px 2px rgba(0, 0, 0, 0.3));\n",
              "      fill: #FFFFFF;\n",
              "    }\n",
              "  </style>\n",
              "\n",
              "      <script>\n",
              "        const buttonEl =\n",
              "          document.querySelector('#df-9f5435ea-211c-4761-a003-7fac12650453 button.colab-df-convert');\n",
              "        buttonEl.style.display =\n",
              "          google.colab.kernel.accessAllowed ? 'block' : 'none';\n",
              "\n",
              "        async function convertToInteractive(key) {\n",
              "          const element = document.querySelector('#df-9f5435ea-211c-4761-a003-7fac12650453');\n",
              "          const dataTable =\n",
              "            await google.colab.kernel.invokeFunction('convertToInteractive',\n",
              "                                                     [key], {});\n",
              "          if (!dataTable) return;\n",
              "\n",
              "          const docLinkHtml = 'Like what you see? Visit the ' +\n",
              "            '<a target=\"_blank\" href=https://colab.research.google.com/notebooks/data_table.ipynb>data table notebook</a>'\n",
              "            + ' to learn more about interactive tables.';\n",
              "          element.innerHTML = '';\n",
              "          dataTable['output_type'] = 'display_data';\n",
              "          await google.colab.output.renderOutput(dataTable, element);\n",
              "          const docLink = document.createElement('div');\n",
              "          docLink.innerHTML = docLinkHtml;\n",
              "          element.appendChild(docLink);\n",
              "        }\n",
              "      </script>\n",
              "    </div>\n",
              "  </div>\n",
              "  "
            ]
          },
          "metadata": {},
          "execution_count": 9
        }
      ]
    },
    {
      "cell_type": "code",
      "source": [
        "df.info()"
      ],
      "metadata": {
        "colab": {
          "base_uri": "https://localhost:8080/"
        },
        "id": "h0IdcZpcgk_N",
        "outputId": "d7c42a7a-c925-4152-a35c-6db1df687c11"
      },
      "execution_count": 10,
      "outputs": [
        {
          "output_type": "stream",
          "name": "stdout",
          "text": [
            "<class 'pandas.core.frame.DataFrame'>\n",
            "Int64Index: 1000386 entries, 0 to 1000385\n",
            "Data columns (total 10 columns):\n",
            " #   Column      Non-Null Count    Dtype  \n",
            "---  ------      --------------    -----  \n",
            " 0   UserID      1000209 non-null  float64\n",
            " 1   MovieID     1000386 non-null  int64  \n",
            " 2   Rating      1000209 non-null  float64\n",
            " 3   Timestamp   1000209 non-null  float64\n",
            " 4   Gender      1000209 non-null  object \n",
            " 5   Age         1000209 non-null  float64\n",
            " 6   Occupation  1000209 non-null  float64\n",
            " 7   Zip-code    1000209 non-null  object \n",
            " 8   Title       1000386 non-null  object \n",
            " 9   Genres      1000386 non-null  object \n",
            "dtypes: float64(5), int64(1), object(4)\n",
            "memory usage: 84.0+ MB\n"
          ]
        }
      ]
    },
    {
      "cell_type": "code",
      "source": [
        "df.shape"
      ],
      "metadata": {
        "colab": {
          "base_uri": "https://localhost:8080/"
        },
        "id": "CaAURGuegoSH",
        "outputId": "0abffb88-6884-46d3-a233-09cebc38b489"
      },
      "execution_count": 11,
      "outputs": [
        {
          "output_type": "execute_result",
          "data": {
            "text/plain": [
              "(1000386, 10)"
            ]
          },
          "metadata": {},
          "execution_count": 11
        }
      ]
    },
    {
      "cell_type": "code",
      "source": [
        "corr = df.corr()\n",
        "sns.heatmap(corr,annot= True,linewidths=0.5)"
      ],
      "metadata": {
        "colab": {
          "base_uri": "https://localhost:8080/",
          "height": 286
        },
        "id": "R8XmGfN8gsr1",
        "outputId": "fe105ee4-563a-4e6f-a5f8-0a3f8d3e7e6e"
      },
      "execution_count": 12,
      "outputs": [
        {
          "output_type": "execute_result",
          "data": {
            "text/plain": [
              "<matplotlib.axes._subplots.AxesSubplot at 0x7fb614046750>"
            ]
          },
          "metadata": {},
          "execution_count": 12
        },
        {
          "output_type": "display_data",
          "data": {
            "text/plain": [
              "<Figure size 432x288 with 2 Axes>"
            ],
            "image/png": "[encoded data removed]"
          },
          "metadata": {
            "needs_background": "light"
          }
        }
      ]
    },
    {
      "cell_type": "markdown",
      "source": [
        "**Extracting the pandas profiling report**"
      ],
      "metadata": {
        "id": "-RdOpQhVmrJo"
      }
    },
    {
      "cell_type": "code",
      "source": [
        "pf.describe(df)\n",
        "pfr = pf.ProfileReport(df)\n",
        "pfr.to_file('Movielens_pfr.html')"
      ],
      "metadata": {
        "colab": {
          "base_uri": "https://localhost:8080/",
          "height": 346
        },
        "id": "w7neDjhNgvZW",
        "outputId": "12e8344b-7606-4b24-cc1e-920ad8297083"
      },
      "execution_count": 13,
      "outputs": [
        {
          "output_type": "error",
          "ename": "TypeError",
          "evalue": "ignored",
          "traceback": [
            "\u001b[0;31m---------------------------------------------------------------------------\u001b[0m",
            "\u001b[0;31mTypeError\u001b[0m                                 Traceback (most recent call last)",
            "\u001b[0;32m<ipython-input-13-55295ad14888>\u001b[0m in \u001b[0;36m<module>\u001b[0;34m\u001b[0m\n\u001b[0;32m----> 1\u001b[0;31m \u001b[0mpf\u001b[0m\u001b[0;34m.\u001b[0m\u001b[0mdescribe\u001b[0m\u001b[0;34m(\u001b[0m\u001b[0mdf\u001b[0m\u001b[0;34m)\u001b[0m\u001b[0;34m\u001b[0m\u001b[0;34m\u001b[0m\u001b[0m\n\u001b[0m\u001b[1;32m      2\u001b[0m \u001b[0mpfr\u001b[0m \u001b[0;34m=\u001b[0m \u001b[0mpf\u001b[0m\u001b[0;34m.\u001b[0m\u001b[0mProfileReport\u001b[0m\u001b[0;34m(\u001b[0m\u001b[0mdf\u001b[0m\u001b[0;34m)\u001b[0m\u001b[0;34m\u001b[0m\u001b[0;34m\u001b[0m\u001b[0m\n\u001b[1;32m      3\u001b[0m \u001b[0mpfr\u001b[0m\u001b[0;34m.\u001b[0m\u001b[0mto_file\u001b[0m\u001b[0;34m(\u001b[0m\u001b[0;34m'Movielens_pfr.html'\u001b[0m\u001b[0;34m)\u001b[0m\u001b[0;34m\u001b[0m\u001b[0;34m\u001b[0m\u001b[0m\n",
            "\u001b[0;32m/usr/local/lib/python3.7/dist-packages/pandas_profiling/describe.py\u001b[0m in \u001b[0;36mdescribe\u001b[0;34m(df, bins, check_correlation, correlation_threshold, correlation_overrides, check_recoded, pool_size, **kwargs)\u001b[0m\n\u001b[1;32m    390\u001b[0m             \u001b[0;32mif\u001b[0m \u001b[0mname\u001b[0m \u001b[0;32mnot\u001b[0m \u001b[0;32min\u001b[0m \u001b[0mnames\u001b[0m\u001b[0;34m:\u001b[0m\u001b[0;34m\u001b[0m\u001b[0;34m\u001b[0m\u001b[0m\n\u001b[1;32m    391\u001b[0m                 \u001b[0mnames\u001b[0m\u001b[0;34m.\u001b[0m\u001b[0mappend\u001b[0m\u001b[0;34m(\u001b[0m\u001b[0mname\u001b[0m\u001b[0;34m)\u001b[0m\u001b[0;34m\u001b[0m\u001b[0;34m\u001b[0m\u001b[0m\n\u001b[0;32m--> 392\u001b[0;31m     \u001b[0mvariable_stats\u001b[0m \u001b[0;34m=\u001b[0m \u001b[0mpd\u001b[0m\u001b[0;34m.\u001b[0m\u001b[0mconcat\u001b[0m\u001b[0;34m(\u001b[0m\u001b[0mldesc\u001b[0m\u001b[0;34m,\u001b[0m \u001b[0mjoin_axes\u001b[0m\u001b[0;34m=\u001b[0m\u001b[0mpd\u001b[0m\u001b[0;34m.\u001b[0m\u001b[0mIndex\u001b[0m\u001b[0;34m(\u001b[0m\u001b[0;34m[\u001b[0m\u001b[0mnames\u001b[0m\u001b[0;34m]\u001b[0m\u001b[0;34m)\u001b[0m\u001b[0;34m,\u001b[0m \u001b[0maxis\u001b[0m\u001b[0;34m=\u001b[0m\u001b[0;36m1\u001b[0m\u001b[0;34m)\u001b[0m\u001b[0;34m\u001b[0m\u001b[0;34m\u001b[0m\u001b[0m\n\u001b[0m\u001b[1;32m    393\u001b[0m     \u001b[0mvariable_stats\u001b[0m\u001b[0;34m.\u001b[0m\u001b[0mcolumns\u001b[0m\u001b[0;34m.\u001b[0m\u001b[0mnames\u001b[0m \u001b[0;34m=\u001b[0m \u001b[0mdf\u001b[0m\u001b[0;34m.\u001b[0m\u001b[0mcolumns\u001b[0m\u001b[0;34m.\u001b[0m\u001b[0mnames\u001b[0m\u001b[0;34m\u001b[0m\u001b[0;34m\u001b[0m\u001b[0m\n\u001b[1;32m    394\u001b[0m \u001b[0;34m\u001b[0m\u001b[0m\n",
            "\u001b[0;32m/usr/local/lib/python3.7/dist-packages/pandas/util/_decorators.py\u001b[0m in \u001b[0;36mwrapper\u001b[0;34m(*args, **kwargs)\u001b[0m\n\u001b[1;32m    309\u001b[0m                     \u001b[0mstacklevel\u001b[0m\u001b[0;34m=\u001b[0m\u001b[0mstacklevel\u001b[0m\u001b[0;34m,\u001b[0m\u001b[0;34m\u001b[0m\u001b[0;34m\u001b[0m\u001b[0m\n\u001b[1;32m    310\u001b[0m                 )\n\u001b[0;32m--> 311\u001b[0;31m             \u001b[0;32mreturn\u001b[0m \u001b[0mfunc\u001b[0m\u001b[0;34m(\u001b[0m\u001b[0;34m*\u001b[0m\u001b[0margs\u001b[0m\u001b[0;34m,\u001b[0m \u001b[0;34m**\u001b[0m\u001b[0mkwargs\u001b[0m\u001b[0;34m)\u001b[0m\u001b[0;34m\u001b[0m\u001b[0;34m\u001b[0m\u001b[0m\n\u001b[0m\u001b[1;32m    312\u001b[0m \u001b[0;34m\u001b[0m\u001b[0m\n\u001b[1;32m    313\u001b[0m         \u001b[0;32mreturn\u001b[0m \u001b[0mwrapper\u001b[0m\u001b[0;34m\u001b[0m\u001b[0;34m\u001b[0m\u001b[0m\n",
            "\u001b[0;31mTypeError\u001b[0m: concat() got an unexpected keyword argument 'join_axes'"
          ]
        }
      ]
    },
    {
      "cell_type": "code",
      "source": [
        "print('Na values in the data frame is :')\n",
        "def is_na(x):\n",
        "    for i in x.columns:\n",
        "        print(i,'column',' :',x[i].isna().sum(),'\\n')\n",
        "is_na(df)"
      ],
      "metadata": {
        "colab": {
          "base_uri": "https://localhost:8080/"
        },
        "id": "Raz5hINbmycW",
        "outputId": "86c3480d-97fa-4d99-814e-34ca333d2d84"
      },
      "execution_count": 14,
      "outputs": [
        {
          "output_type": "stream",
          "name": "stdout",
          "text": [
            "Na values in the data frame is :\n",
            "UserID column  : 177 \n",
            "\n",
            "MovieID column  : 0 \n",
            "\n",
            "Rating column  : 177 \n",
            "\n",
            "Timestamp column  : 177 \n",
            "\n",
            "Gender column  : 177 \n",
            "\n",
            "Age column  : 177 \n",
            "\n",
            "Occupation column  : 177 \n",
            "\n",
            "Zip-code column  : 177 \n",
            "\n",
            "Title column  : 0 \n",
            "\n",
            "Genres column  : 0 \n",
            "\n"
          ]
        }
      ]
    },
    {
      "cell_type": "code",
      "source": [
        "df.dropna(inplace=True)"
      ],
      "metadata": {
        "id": "AawSvhfjnij-"
      },
      "execution_count": 15,
      "outputs": []
    },
    {
      "cell_type": "code",
      "source": [
        "df.Rating.isna().value_counts()"
      ],
      "metadata": {
        "colab": {
          "base_uri": "https://localhost:8080/"
        },
        "id": "GDFcm1s0nmNm",
        "outputId": "a3a07d43-5599-4d58-df99-3b0111b3ca81"
      },
      "execution_count": 16,
      "outputs": [
        {
          "output_type": "execute_result",
          "data": {
            "text/plain": [
              "False    1000209\n",
              "Name: Rating, dtype: int64"
            ]
          },
          "metadata": {},
          "execution_count": 16
        }
      ]
    },
    {
      "cell_type": "code",
      "source": [
        "def df_unique(X):\n",
        "    for i in X.columns:\n",
        "        print('Column : ',i,'\\n',X[i].unique(), '\\n Total unique values is: ', X[i].nunique())\n",
        "        print('----------------------------------------------------------------------')\n",
        "df_unique(df)"
      ],
      "metadata": {
        "colab": {
          "base_uri": "https://localhost:8080/"
        },
        "id": "x6nNkg6nnow3",
        "outputId": "24455923-d9da-4aa9-8790-baffb351ddef"
      },
      "execution_count": 17,
      "outputs": [
        {
          "output_type": "stream",
          "name": "stdout",
          "text": [
            "Column :  UserID \n",
            " [1.000e+00 2.000e+00 1.200e+01 ... 2.982e+03 3.893e+03 4.211e+03] \n",
            " Total unique values is:  6040\n",
            "----------------------------------------------------------------------\n",
            "Column :  MovieID \n",
            " [1193  661  914 ... 2845 3607 2909] \n",
            " Total unique values is:  3706\n",
            "----------------------------------------------------------------------\n",
            "Column :  Rating \n",
            " [5. 4. 3. 2. 1.] \n",
            " Total unique values is:  5\n",
            "----------------------------------------------------------------------\n",
            "Column :  Timestamp \n",
            " [9.78300760e+08 9.78298413e+08 9.78220179e+08 ... 9.58846401e+08\n",
            " 9.76029116e+08 9.57273353e+08] \n",
            " Total unique values is:  458455\n",
            "----------------------------------------------------------------------\n",
            "Column :  Gender \n",
            " ['F' 'M'] \n",
            " Total unique values is:  2\n",
            "----------------------------------------------------------------------\n",
            "Column :  Age \n",
            " [ 1. 56. 25. 50. 18. 45. 35.] \n",
            " Total unique values is:  7\n",
            "----------------------------------------------------------------------\n",
            "Column :  Occupation \n",
            " [10. 16. 12.  7.  1.  3.  4.  8. 17.  0.  2.  9. 19. 18. 15. 11. 20. 13.\n",
            "  5. 14.  6.] \n",
            " Total unique values is:  21\n",
            "----------------------------------------------------------------------\n",
            "Column :  Zip-code \n",
            " ['48067' '70072' '32793' ... '74403' '79401' '77662'] \n",
            " Total unique values is:  3439\n",
            "----------------------------------------------------------------------\n",
            "Column :  Title \n",
            " [\"One Flew Over the Cuckoo's Nest (1975)\"\n",
            " 'James and the Giant Peach (1996)' 'My Fair Lady (1964)' ...\n",
            " 'White Boys (1999)' 'One Little Indian (1973)'\n",
            " 'Five Wives, Three Secretaries and Me (1998)'] \n",
            " Total unique values is:  3706\n",
            "----------------------------------------------------------------------\n",
            "Column :  Genres \n",
            " ['Drama' \"Animation|Children's|Musical\" 'Musical|Romance'\n",
            " \"Animation|Children's|Comedy\" 'Action|Adventure|Comedy|Romance'\n",
            " 'Action|Adventure|Drama' 'Comedy|Drama'\n",
            " \"Adventure|Children's|Drama|Musical\" 'Musical' 'Comedy'\n",
            " \"Animation|Children's\" 'Comedy|Fantasy' 'Animation' 'Comedy|Sci-Fi'\n",
            " 'Drama|War' 'Romance' \"Animation|Children's|Musical|Romance\"\n",
            " \"Children's|Drama|Fantasy|Sci-Fi\" 'Drama|Romance'\n",
            " 'Animation|Comedy|Thriller'\n",
            " \"Adventure|Animation|Children's|Comedy|Musical\"\n",
            " \"Animation|Children's|Comedy|Musical\" 'Thriller' 'Action|Crime|Romance'\n",
            " 'Action|Adventure|Fantasy|Sci-Fi' \"Children's|Comedy|Musical\"\n",
            " 'Action|Drama|War' \"Children's|Drama\" 'Crime|Drama|Thriller'\n",
            " 'Action|Crime|Drama' 'Action|Adventure|Mystery' 'Crime|Drama'\n",
            " 'Action|Adventure|Sci-Fi|Thriller' 'Action|Adventure|Romance|Sci-Fi|War'\n",
            " 'Action|Thriller' 'Action|Drama' 'Comedy|Drama|Western'\n",
            " 'Action|Adventure|Crime' 'Action|Crime|Mystery|Thriller'\n",
            " 'Comedy|Drama|Romance' 'Comedy|Drama|War' 'Drama|Sci-Fi'\n",
            " 'Action|Drama|Thriller' 'Action|Comedy|Western' 'Adventure|Comedy|Drama'\n",
            " 'Drama|Thriller' 'Comedy|Romance' 'Action|Drama|Romance|Thriller'\n",
            " 'Action|Crime|Thriller' 'Action|Sci-Fi|Thriller' 'Action|Horror|Sci-Fi'\n",
            " 'Action|Sci-Fi' 'Action|Romance|War' 'Adventure|Drama|Romance|Sci-Fi'\n",
            " 'Action|Adventure|Sci-Fi' 'Drama|Romance|War' 'Action|Drama|Romance'\n",
            " 'Crime|Drama|Film-Noir|Thriller' 'Adventure|Drama|Western'\n",
            " 'Action|Adventure|Drama|Sci-Fi|War' 'Action|Adventure|Thriller'\n",
            " 'Action|Adventure|Romance|Thriller' 'Action|Adventure' 'Comedy|Horror'\n",
            " 'Action|Crime|Drama|Thriller' 'Action|Mystery|Romance|Thriller'\n",
            " 'Action|Romance|Thriller' 'Action|Comedy|Drama' 'Action'\n",
            " 'Action|Sci-Fi|War' 'Action|Comedy|Crime|Drama'\n",
            " 'Action|Adventure|Romance' 'Comedy|Romance|War' 'Comedy|Thriller'\n",
            " 'Action|Adventure|Comedy' 'Action|Comedy' 'Adventure|Thriller'\n",
            " 'Action|Adventure|Fantasy' 'Action|Adventure|Horror'\n",
            " 'Action|Adventure|Comedy|Sci-Fi' 'Action|Adventure|Comedy|Horror'\n",
            " 'Western' 'Adventure|Comedy' 'Adventure|Drama'\n",
            " 'Action|Adventure|Horror|Thriller' 'Comedy|Western'\n",
            " \"Animation|Children's|Comedy|Musical|Romance\" 'Action|Western'\n",
            " 'Action|Horror|Sci-Fi|Thriller' 'Action|Horror'\n",
            " 'Adventure|Animation|Film-Noir' 'Drama|Romance|Thriller'\n",
            " 'Crime|Drama|Romance|Thriller' 'Crime|Thriller' 'Animation|Comedy'\n",
            " 'Documentary' 'Crime|Film-Noir|Mystery|Thriller' 'Drama|Horror'\n",
            " 'Mystery|Sci-Fi|Thriller' 'Drama|Mystery' 'Horror|Romance'\n",
            " 'Horror|Sci-Fi' 'Horror' 'Sci-Fi|Thriller' 'Crime' 'Action|Crime'\n",
            " 'Crime|Horror' 'Drama|Mystery|Thriller' 'Comedy|Crime'\n",
            " 'Drama|Sci-Fi|Thriller' \"Children's|Comedy\" 'Horror|Mystery|Thriller'\n",
            " 'Film-Noir|Mystery' 'Comedy|Crime|Mystery|Thriller' 'Drama|Musical'\n",
            " 'Adventure|Sci-Fi' \"Children's|Comedy|Drama\" 'Action|Romance'\n",
            " \"Adventure|Animation|Children's|Musical\" 'Comedy|Musical'\n",
            " \"Children's|Fantasy|Musical\" \"Children's|Comedy|Western\"\n",
            " 'Drama|Romance|War|Western' \"Adventure|Children's|Comedy\"\n",
            " 'Comedy|Fantasy|Romance' 'Comedy|Musical|Romance'\n",
            " \"Adventure|Children's|Drama\" 'Action|Drama|Thriller|War'\n",
            " 'Drama|Thriller|War' 'Adventure|Animation|Sci-Fi|Thriller'\n",
            " 'Animation|Sci-Fi' 'Comedy|Crime|Drama|Mystery' 'Crime|Drama|Mystery'\n",
            " 'Action|Comedy|Sci-Fi|Thriller' 'Comedy|Crime|Fantasy'\n",
            " 'Horror|Sci-Fi|Thriller' \"Adventure|Children's|Comedy|Fantasy|Sci-Fi\"\n",
            " 'Film-Noir|Mystery|Thriller' 'Adventure' 'Comedy|War'\n",
            " 'Comedy|Romance|Thriller' \"Action|Children's|Fantasy\"\n",
            " \"Adventure|Children's|Fantasy\" 'Action|Adventure|Comedy|Crime'\n",
            " 'Adventure|Musical' \"Animation|Children's|Drama|Fantasy\"\n",
            " 'Comedy|Mystery|Thriller' 'Action|Adventure|Crime|Drama'\n",
            " \"Children's|Fantasy|Sci-Fi\" \"Adventure|Children's\" 'War'\n",
            " 'Comedy|Horror|Musical|Sci-Fi' \"Children's|Comedy|Fantasy\" 'Sci-Fi|War'\n",
            " \"Animation|Children's|Fantasy|Musical\" \"Children's|Sci-Fi\"\n",
            " \"Adventure|Children's|Fantasy|Sci-Fi\" 'Mystery|Thriller'\n",
            " 'Comedy|Horror|Musical' 'Action|Horror|Thriller' 'Adventure|Fantasy'\n",
            " 'Drama|Mystery|Sci-Fi|Thriller' 'Crime|Drama|Sci-Fi'\n",
            " \"Adventure|Children's|Musical\" 'Action|Sci-Fi|Thriller|War'\n",
            " 'Adventure|War' 'Action|Adventure|Romance|War'\n",
            " 'Action|Drama|Fantasy|Romance' 'Adventure|Comedy|Sci-Fi'\n",
            " 'Comedy|Sci-Fi|Western' 'Action|Adventure|Comedy|Horror|Sci-Fi'\n",
            " \"Adventure|Children's|Comedy|Fantasy\" 'Film-Noir|Sci-Fi' 'Drama|Fantasy'\n",
            " \"Children's|Drama|Fantasy\" \"Children's|Fantasy\" 'Fantasy|Sci-Fi'\n",
            " 'Action|Comedy|Musical' 'Adventure|Fantasy|Sci-Fi'\n",
            " 'Action|Adventure|Sci-Fi|War' \"Action|Adventure|Children's|Comedy\"\n",
            " \"Adventure|Children's|Drama|Romance\" \"Adventure|Children's|Sci-Fi\"\n",
            " \"Children's\" 'Comedy|Drama|Musical' 'Comedy|Fantasy|Romance|Sci-Fi'\n",
            " 'Comedy|Crime|Drama' 'Sci-Fi' 'Adventure|Fantasy|Romance'\n",
            " 'Adventure|Romance' 'Adventure|Western' 'Action|Drama|Mystery'\n",
            " 'Adventure|Animation|Sci-Fi' 'Adventure|Romance|Sci-Fi' 'Horror|Thriller'\n",
            " 'Action|Adventure|Mystery|Sci-Fi' 'Adventure|Drama|Thriller'\n",
            " 'Comedy|Horror|Thriller' 'Action|Comedy|Crime|Horror|Thriller'\n",
            " 'Crime|Horror|Mystery|Thriller' 'Crime|Horror|Thriller'\n",
            " 'Crime|Drama|Mystery|Thriller' 'Animation|Musical'\n",
            " 'Action|Sci-Fi|Western' 'Crime|Drama|Film-Noir'\n",
            " 'Adventure|Sci-Fi|Thriller' 'Drama|Fantasy|Romance|Thriller'\n",
            " 'Mystery|Sci-Fi' 'Action|Crime|Sci-Fi' 'Comedy|Mystery'\n",
            " 'Action|Romance|Sci-Fi' 'Crime|Film-Noir|Mystery' 'Comedy|Drama|Sci-Fi'\n",
            " 'Sci-Fi|Thriller|War' 'Film-Noir|Thriller'\n",
            " 'Action|Adventure|Animation|Horror|Sci-Fi'\n",
            " 'Action|Sci-Fi|Thriller|Western' 'Comedy|Horror|Sci-Fi'\n",
            " 'Crime|Film-Noir|Thriller' 'Comedy|Crime|Thriller'\n",
            " 'Film-Noir|Sci-Fi|Thriller' \"Adventure|Animation|Children's|Sci-Fi\"\n",
            " 'Action|Adventure|Drama|Romance' \"Children's|Musical\"\n",
            " 'Action|Comedy|Musical|Sci-Fi' 'Action|Drama|Sci-Fi|Thriller'\n",
            " 'Action|Comedy|Fantasy' 'Action|War' 'Action|Comedy|Sci-Fi|War'\n",
            " 'Comedy|Crime|Horror' 'Action|Comedy|War'\n",
            " \"Action|Adventure|Children's|Sci-Fi\" \"Action|Children's\"\n",
            " 'Comedy|Documentary' 'Action|Adventure|Animation'\n",
            " 'Action|Mystery|Thriller'\n",
            " \"Action|Animation|Children's|Sci-Fi|Thriller|War\" 'Crime|Drama|Romance'\n",
            " 'Crime|Film-Noir' 'Mystery|Romance|Thriller'\n",
            " 'Comedy|Mystery|Romance|Thriller' 'Action|Adventure|Sci-Fi|Thriller|War'\n",
            " 'Adventure|Crime|Sci-Fi|Thriller' 'Action|Adventure|Western'\n",
            " \"Animation|Children's|Fantasy|War\" 'Action|Adventure|Comedy|War'\n",
            " \"Children's|Comedy|Sci-Fi\"\n",
            " \"Adventure|Animation|Children's|Comedy|Fantasy\" 'Drama|Musical|War'\n",
            " 'Drama|Mystery|Romance' 'Adventure|Drama|Romance' 'Film-Noir'\n",
            " 'Film-Noir|Romance|Thriller' 'Drama|Film-Noir' 'Romance|Thriller'\n",
            " 'Action|Adventure|War' 'Mystery' 'Action|Adventure|Drama|Thriller'\n",
            " 'Musical|Romance|War' 'Drama|Western'\n",
            " 'Action|Drama|Mystery|Romance|Thriller' 'Adventure|Comedy|Musical'\n",
            " 'Documentary|Musical' 'Action|Thriller|War' 'Adventure|Comedy|Romance'\n",
            " \"Adventure|Children's|Comedy|Fantasy|Romance\" 'Romance|War'\n",
            " 'Comedy|Romance|Sci-Fi' 'Action|Mystery|Sci-Fi|Thriller'\n",
            " \"Children's|Horror\" 'Adventure|Musical|Romance'\n",
            " \"Adventure|Children's|Comedy|Musical\" \"Children's|Comedy|Mystery\"\n",
            " 'Action|Comedy|Romance|Thriller' 'Action|Drama|Western'\n",
            " \"Animation|Children's|Comedy|Romance\" 'Comedy|Mystery|Romance'\n",
            " 'Action|Crime|Mystery' 'Comedy|Drama|Thriller' 'Musical|War'\n",
            " 'Documentary|Drama' 'Action|Adventure|Crime|Thriller'\n",
            " \"Action|Adventure|Children's\" \"Adventure|Children's|Romance\"\n",
            " \"Adventure|Animation|Children's\"\n",
            " \"Action|Adventure|Animation|Children's|Fantasy\"\n",
            " \"Adventure|Animation|Children's|Fantasy\" 'Drama|Film-Noir|Thriller'\n",
            " 'Crime|Mystery' 'Documentary|War' 'Action|Comedy|Crime'\n",
            " 'Drama|Romance|Sci-Fi' 'Horror|Mystery' 'Drama|Horror|Thriller'\n",
            " \"Action|Adventure|Children's|Fantasy\" 'Animation|Mystery'\n",
            " 'Drama|Romance|Western' 'Romance|Western' 'Comedy|Film-Noir|Thriller'\n",
            " 'Fantasy' 'Film-Noir|Horror'] \n",
            " Total unique values is:  301\n",
            "----------------------------------------------------------------------\n"
          ]
        }
      ]
    },
    {
      "cell_type": "markdown",
      "source": [
        "**Exploring the datasets using visual representations**"
      ],
      "metadata": {
        "id": "7clGfmZ3nzDP"
      }
    },
    {
      "cell_type": "code",
      "source": [
        "df.Age.hist(grid=False)"
      ],
      "metadata": {
        "colab": {
          "base_uri": "https://localhost:8080/",
          "height": 506
        },
        "id": "pb3xDPwKn3UE",
        "outputId": "347542a9-0dea-403b-a030-262c49d54235"
      },
      "execution_count": 18,
      "outputs": [
        {
          "output_type": "execute_result",
          "data": {
            "text/plain": [
              "<matplotlib.axes._subplots.AxesSubplot at 0x7fb6142efcd0>"
            ]
          },
          "metadata": {},
          "execution_count": 18
        },
        {
          "output_type": "display_data",
          "data": {
            "text/plain": [
              "<Figure size 800x550 with 1 Axes>"
            ],
            "image/png": "[encoded data removed]"
          },
          "metadata": {}
        }
      ]
    },
    {
      "cell_type": "markdown",
      "source": [
        "**Visualizing User rating of the movie “Toy Story”**"
      ],
      "metadata": {
        "id": "IFS2xrkGn9YP"
      }
    },
    {
      "cell_type": "code",
      "source": [
        "def fn(x):\n",
        "    return re.search(\"Toy Story\".lower(), x.lower())!=None\n",
        "title = df.iloc[0].Title\n",
        "title"
      ],
      "metadata": {
        "colab": {
          "base_uri": "https://localhost:8080/",
          "height": 35
        },
        "id": "wdLUCTOIn51s",
        "outputId": "8827fb74-1889-4f5b-ecac-c2e5181cf12b"
      },
      "execution_count": 19,
      "outputs": [
        {
          "output_type": "execute_result",
          "data": {
            "text/plain": [
              "\"One Flew Over the Cuckoo's Nest (1975)\""
            ],
            "application/vnd.google.colaboratory.intrinsic+json": {
              "type": "string"
            }
          },
          "metadata": {},
          "execution_count": 19
        }
      ]
    },
    {
      "cell_type": "code",
      "source": [
        "re_tit = df[\"Title\"].apply(fn)\n",
        "re_tit.head()"
      ],
      "metadata": {
        "colab": {
          "base_uri": "https://localhost:8080/"
        },
        "id": "dQSh2VGcoH34",
        "outputId": "f8e9c060-d6bb-4fa8-8ec1-c2a5d6646634"
      },
      "execution_count": 20,
      "outputs": [
        {
          "output_type": "execute_result",
          "data": {
            "text/plain": [
              "0    False\n",
              "1    False\n",
              "2    False\n",
              "3    False\n",
              "4    False\n",
              "Name: Title, dtype: bool"
            ]
          },
          "metadata": {},
          "execution_count": 20
        }
      ]
    },
    {
      "cell_type": "code",
      "source": [
        "toystory = df[df[\"Title\"].apply(fn)]\n",
        "toystory"
      ],
      "metadata": {
        "colab": {
          "base_uri": "https://localhost:8080/",
          "height": 832
        },
        "id": "Pkalz5uRoK09",
        "outputId": "325648a7-5115-41ab-d7a4-271de76e93d0"
      },
      "execution_count": 21,
      "outputs": [
        {
          "output_type": "execute_result",
          "data": {
            "text/plain": [
              "       UserID  MovieID  Rating    Timestamp Gender   Age  Occupation Zip-code  \\\n",
              "41626     1.0        1     5.0  978824268.0      F   1.0        10.0    48067   \n",
              "41627     6.0        1     4.0  978237008.0      F  50.0         9.0    55117   \n",
              "41628     8.0        1     4.0  978233496.0      M  25.0        12.0    11413   \n",
              "41629     9.0        1     5.0  978225952.0      M  25.0        17.0    61614   \n",
              "41630    10.0        1     5.0  978226474.0      F  35.0         1.0    95370   \n",
              "...       ...      ...     ...          ...    ...   ...         ...      ...   \n",
              "56826  6022.0     3114     5.0  956755741.0      M  25.0        17.0    57006   \n",
              "56827  6024.0     3114     4.0  956749447.0      M  25.0        12.0    53705   \n",
              "56828  6027.0     3114     4.0  956726766.0      M  18.0         4.0    20742   \n",
              "56829  6036.0     3114     4.0  956710231.0      F  25.0        15.0    32603   \n",
              "56830  6037.0     3114     4.0  956719174.0      F  45.0         1.0    76006   \n",
              "\n",
              "                    Title                       Genres  \n",
              "41626    Toy Story (1995)  Animation|Children's|Comedy  \n",
              "41627    Toy Story (1995)  Animation|Children's|Comedy  \n",
              "41628    Toy Story (1995)  Animation|Children's|Comedy  \n",
              "41629    Toy Story (1995)  Animation|Children's|Comedy  \n",
              "41630    Toy Story (1995)  Animation|Children's|Comedy  \n",
              "...                   ...                          ...  \n",
              "56826  Toy Story 2 (1999)  Animation|Children's|Comedy  \n",
              "56827  Toy Story 2 (1999)  Animation|Children's|Comedy  \n",
              "56828  Toy Story 2 (1999)  Animation|Children's|Comedy  \n",
              "56829  Toy Story 2 (1999)  Animation|Children's|Comedy  \n",
              "56830  Toy Story 2 (1999)  Animation|Children's|Comedy  \n",
              "\n",
              "[3662 rows x 10 columns]"
            ],
            "text/html": [
              "\n",
              "  <div id=\"df-f9baef44-e43f-411e-ae8f-58e9b3d20c8b\">\n",
              "    <div class=\"colab-df-container\">\n",
              "      <div>\n",
              "<style scoped>\n",
              "    .dataframe tbody tr th:only-of-type {\n",
              "        vertical-align: middle;\n",
              "    }\n",
              "\n",
              "    .dataframe tbody tr th {\n",
              "        vertical-align: top;\n",
              "    }\n",
              "\n",
              "    .dataframe thead th {\n",
              "        text-align: right;\n",
              "    }\n",
              "</style>\n",
              "<table border=\"1\" class=\"dataframe\">\n",
              "  <thead>\n",
              "    <tr style=\"text-align: right;\">\n",
              "      <th></th>\n",
              "      <th>UserID</th>\n",
              "      <th>MovieID</th>\n",
              "      <th>Rating</th>\n",
              "      <th>Timestamp</th>\n",
              "      <th>Gender</th>\n",
              "      <th>Age</th>\n",
              "      <th>Occupation</th>\n",
              "      <th>Zip-code</th>\n",
              "      <th>Title</th>\n",
              "      <th>Genres</th>\n",
              "    </tr>\n",
              "  </thead>\n",
              "  <tbody>\n",
              "    <tr>\n",
              "      <th>41626</th>\n",
              "      <td>1.0</td>\n",
              "      <td>1</td>\n",
              "      <td>5.0</td>\n",
              "      <td>978824268.0</td>\n",
              "      <td>F</td>\n",
              "      <td>1.0</td>\n",
              "      <td>10.0</td>\n",
              "      <td>48067</td>\n",
              "      <td>Toy Story (1995)</td>\n",
              "      <td>Animation|Children's|Comedy</td>\n",
              "    </tr>\n",
              "    <tr>\n",
              "      <th>41627</th>\n",
              "      <td>6.0</td>\n",
              "      <td>1</td>\n",
              "      <td>4.0</td>\n",
              "      <td>978237008.0</td>\n",
              "      <td>F</td>\n",
              "      <td>50.0</td>\n",
              "      <td>9.0</td>\n",
              "      <td>55117</td>\n",
              "      <td>Toy Story (1995)</td>\n",
              "      <td>Animation|Children's|Comedy</td>\n",
              "    </tr>\n",
              "    <tr>\n",
              "      <th>41628</th>\n",
              "      <td>8.0</td>\n",
              "      <td>1</td>\n",
              "      <td>4.0</td>\n",
              "      <td>978233496.0</td>\n",
              "      <td>M</td>\n",
              "      <td>25.0</td>\n",
              "      <td>12.0</td>\n",
              "      <td>11413</td>\n",
              "      <td>Toy Story (1995)</td>\n",
              "      <td>Animation|Children's|Comedy</td>\n",
              "    </tr>\n",
              "    <tr>\n",
              "      <th>41629</th>\n",
              "      <td>9.0</td>\n",
              "      <td>1</td>\n",
              "      <td>5.0</td>\n",
              "      <td>978225952.0</td>\n",
              "      <td>M</td>\n",
              "      <td>25.0</td>\n",
              "      <td>17.0</td>\n",
              "      <td>61614</td>\n",
              "      <td>Toy Story (1995)</td>\n",
              "      <td>Animation|Children's|Comedy</td>\n",
              "    </tr>\n",
              "    <tr>\n",
              "      <th>41630</th>\n",
              "      <td>10.0</td>\n",
              "      <td>1</td>\n",
              "      <td>5.0</td>\n",
              "      <td>978226474.0</td>\n",
              "      <td>F</td>\n",
              "      <td>35.0</td>\n",
              "      <td>1.0</td>\n",
              "      <td>95370</td>\n",
              "      <td>Toy Story (1995)</td>\n",
              "      <td>Animation|Children's|Comedy</td>\n",
              "    </tr>\n",
              "    <tr>\n",
              "      <th>...</th>\n",
              "      <td>...</td>\n",
              "      <td>...</td>\n",
              "      <td>...</td>\n",
              "      <td>...</td>\n",
              "      <td>...</td>\n",
              "      <td>...</td>\n",
              "      <td>...</td>\n",
              "      <td>...</td>\n",
              "      <td>...</td>\n",
              "      <td>...</td>\n",
              "    </tr>\n",
              "    <tr>\n",
              "      <th>56826</th>\n",
              "      <td>6022.0</td>\n",
              "      <td>3114</td>\n",
              "      <td>5.0</td>\n",
              "      <td>956755741.0</td>\n",
              "      <td>M</td>\n",
              "      <td>25.0</td>\n",
              "      <td>17.0</td>\n",
              "      <td>57006</td>\n",
              "      <td>Toy Story 2 (1999)</td>\n",
              "      <td>Animation|Children's|Comedy</td>\n",
              "    </tr>\n",
              "    <tr>\n",
              "      <th>56827</th>\n",
              "      <td>6024.0</td>\n",
              "      <td>3114</td>\n",
              "      <td>4.0</td>\n",
              "      <td>956749447.0</td>\n",
              "      <td>M</td>\n",
              "      <td>25.0</td>\n",
              "      <td>12.0</td>\n",
              "      <td>53705</td>\n",
              "      <td>Toy Story 2 (1999)</td>\n",
              "      <td>Animation|Children's|Comedy</td>\n",
              "    </tr>\n",
              "    <tr>\n",
              "      <th>56828</th>\n",
              "      <td>6027.0</td>\n",
              "      <td>3114</td>\n",
              "      <td>4.0</td>\n",
              "      <td>956726766.0</td>\n",
              "      <td>M</td>\n",
              "      <td>18.0</td>\n",
              "      <td>4.0</td>\n",
              "      <td>20742</td>\n",
              "      <td>Toy Story 2 (1999)</td>\n",
              "      <td>Animation|Children's|Comedy</td>\n",
              "    </tr>\n",
              "    <tr>\n",
              "      <th>56829</th>\n",
              "      <td>6036.0</td>\n",
              "      <td>3114</td>\n",
              "      <td>4.0</td>\n",
              "      <td>956710231.0</td>\n",
              "      <td>F</td>\n",
              "      <td>25.0</td>\n",
              "      <td>15.0</td>\n",
              "      <td>32603</td>\n",
              "      <td>Toy Story 2 (1999)</td>\n",
              "      <td>Animation|Children's|Comedy</td>\n",
              "    </tr>\n",
              "    <tr>\n",
              "      <th>56830</th>\n",
              "      <td>6037.0</td>\n",
              "      <td>3114</td>\n",
              "      <td>4.0</td>\n",
              "      <td>956719174.0</td>\n",
              "      <td>F</td>\n",
              "      <td>45.0</td>\n",
              "      <td>1.0</td>\n",
              "      <td>76006</td>\n",
              "      <td>Toy Story 2 (1999)</td>\n",
              "      <td>Animation|Children's|Comedy</td>\n",
              "    </tr>\n",
              "  </tbody>\n",
              "</table>\n",
              "<p>3662 rows × 10 columns</p>\n",
              "</div>\n",
              "      <button class=\"colab-df-convert\" onclick=\"convertToInteractive('df-f9baef44-e43f-411e-ae8f-58e9b3d20c8b')\"\n",
              "              title=\"Convert this dataframe to an interactive table.\"\n",
              "              style=\"display:none;\">\n",
              "        \n",
              "  <svg xmlns=\"http://www.w3.org/2000/svg\" height=\"24px\"viewBox=\"0 0 24 24\"\n",
              "       width=\"24px\">\n",
              "    <path d=\"M0 0h24v24H0V0z\" fill=\"none\"/>\n",
              "    <path d=\"M18.56 5.44l.94 2.06.94-2.06 2.06-.94-2.06-.94-.94-2.06-.94 2.06-2.06.94zm-11 1L8.5 8.5l.94-2.06 2.06-.94-2.06-.94L8.5 2.5l-.94 2.06-2.06.94zm10 10l.94 2.06.94-2.06 2.06-.94-2.06-.94-.94-2.06-.94 2.06-2.06.94z\"/><path d=\"M17.41 7.96l-1.37-1.37c-.4-.4-.92-.59-1.43-.59-.52 0-1.04.2-1.43.59L10.3 9.45l-7.72 7.72c-.78.78-.78 2.05 0 2.83L4 21.41c.39.39.9.59 1.41.59.51 0 1.02-.2 1.41-.59l7.78-7.78 2.81-2.81c.8-.78.8-2.07 0-2.86zM5.41 20L4 18.59l7.72-7.72 1.47 1.35L5.41 20z\"/>\n",
              "  </svg>\n",
              "      </button>\n",
              "      \n",
              "  <style>\n",
              "    .colab-df-container {\n",
              "      display:flex;\n",
              "      flex-wrap:wrap;\n",
              "      gap: 12px;\n",
              "    }\n",
              "\n",
              "    .colab-df-convert {\n",
              "      background-color: #E8F0FE;\n",
              "      border: none;\n",
              "      border-radius: 50%;\n",
              "      cursor: pointer;\n",
              "      display: none;\n",
              "      fill: #1967D2;\n",
              "      height: 32px;\n",
              "      padding: 0 0 0 0;\n",
              "      width: 32px;\n",
              "    }\n",
              "\n",
              "    .colab-df-convert:hover {\n",
              "      background-color: #E2EBFA;\n",
              "      box-shadow: 0px 1px 2px rgba(60, 64, 67, 0.3), 0px 1px 3px 1px rgba(60, 64, 67, 0.15);\n",
              "      fill: #174EA6;\n",
              "    }\n",
              "\n",
              "    [theme=dark] .colab-df-convert {\n",
              "      background-color: #3B4455;\n",
              "      fill: #D2E3FC;\n",
              "    }\n",
              "\n",
              "    [theme=dark] .colab-df-convert:hover {\n",
              "      background-color: #434B5C;\n",
              "      box-shadow: 0px 1px 3px 1px rgba(0, 0, 0, 0.15);\n",
              "      filter: drop-shadow(0px 1px 2px rgba(0, 0, 0, 0.3));\n",
              "      fill: #FFFFFF;\n",
              "    }\n",
              "  </style>\n",
              "\n",
              "      <script>\n",
              "        const buttonEl =\n",
              "          document.querySelector('#df-f9baef44-e43f-411e-ae8f-58e9b3d20c8b button.colab-df-convert');\n",
              "        buttonEl.style.display =\n",
              "          google.colab.kernel.accessAllowed ? 'block' : 'none';\n",
              "\n",
              "        async function convertToInteractive(key) {\n",
              "          const element = document.querySelector('#df-f9baef44-e43f-411e-ae8f-58e9b3d20c8b');\n",
              "          const dataTable =\n",
              "            await google.colab.kernel.invokeFunction('convertToInteractive',\n",
              "                                                     [key], {});\n",
              "          if (!dataTable) return;\n",
              "\n",
              "          const docLinkHtml = 'Like what you see? Visit the ' +\n",
              "            '<a target=\"_blank\" href=https://colab.research.google.com/notebooks/data_table.ipynb>data table notebook</a>'\n",
              "            + ' to learn more about interactive tables.';\n",
              "          element.innerHTML = '';\n",
              "          dataTable['output_type'] = 'display_data';\n",
              "          await google.colab.output.renderOutput(dataTable, element);\n",
              "          const docLink = document.createElement('div');\n",
              "          docLink.innerHTML = docLinkHtml;\n",
              "          element.appendChild(docLink);\n",
              "        }\n",
              "      </script>\n",
              "    </div>\n",
              "  </div>\n",
              "  "
            ]
          },
          "metadata": {},
          "execution_count": 21
        }
      ]
    },
    {
      "cell_type": "code",
      "source": [
        "toystory.Rating.hist(grid=False)"
      ],
      "metadata": {
        "colab": {
          "base_uri": "https://localhost:8080/",
          "height": 506
        },
        "id": "kX4D7cQdoOGC",
        "outputId": "49d67eaa-2c85-486c-a788-d45c7be73073"
      },
      "execution_count": 22,
      "outputs": [
        {
          "output_type": "execute_result",
          "data": {
            "text/plain": [
              "<matplotlib.axes._subplots.AxesSubplot at 0x7fb6251d8790>"
            ]
          },
          "metadata": {},
          "execution_count": 22
        },
        {
          "output_type": "display_data",
          "data": {
            "text/plain": [
              "<Figure size 800x550 with 1 Axes>"
            ],
            "image/png": "[encoded data removed]"
          },
          "metadata": {}
        }
      ]
    },
    {
      "cell_type": "markdown",
      "source": [
        "**Top 25 movies by viewership rating**"
      ],
      "metadata": {
        "id": "4CyCF7xHoU9Q"
      }
    },
    {
      "cell_type": "code",
      "source": [
        "top_25 = df.groupby([\"MovieID\", \"Title\"]).Timestamp.count().sort_values(ascending=False)\n"
      ],
      "metadata": {
        "id": "HYp67MZwoSfC"
      },
      "execution_count": 23,
      "outputs": []
    },
    {
      "cell_type": "code",
      "source": [
        "print('Top 25 movies by viewership rating')\n",
        "print(top_25[:25])"
      ],
      "metadata": {
        "colab": {
          "base_uri": "https://localhost:8080/"
        },
        "id": "PC4kPJ76of0l",
        "outputId": "1abcd165-4cb8-41b9-ba94-a3b2cec2c203"
      },
      "execution_count": 24,
      "outputs": [
        {
          "output_type": "stream",
          "name": "stdout",
          "text": [
            "Top 25 movies by viewership rating\n",
            "MovieID  Title                                                \n",
            "2858     American Beauty (1999)                                   3428\n",
            "260      Star Wars: Episode IV - A New Hope (1977)                2991\n",
            "1196     Star Wars: Episode V - The Empire Strikes Back (1980)    2990\n",
            "1210     Star Wars: Episode VI - Return of the Jedi (1983)        2883\n",
            "480      Jurassic Park (1993)                                     2672\n",
            "2028     Saving Private Ryan (1998)                               2653\n",
            "589      Terminator 2: Judgment Day (1991)                        2649\n",
            "2571     Matrix, The (1999)                                       2590\n",
            "1270     Back to the Future (1985)                                2583\n",
            "593      Silence of the Lambs, The (1991)                         2578\n",
            "1580     Men in Black (1997)                                      2538\n",
            "1198     Raiders of the Lost Ark (1981)                           2514\n",
            "608      Fargo (1996)                                             2513\n",
            "2762     Sixth Sense, The (1999)                                  2459\n",
            "110      Braveheart (1995)                                        2443\n",
            "2396     Shakespeare in Love (1998)                               2369\n",
            "1197     Princess Bride, The (1987)                               2318\n",
            "527      Schindler's List (1993)                                  2304\n",
            "1617     L.A. Confidential (1997)                                 2288\n",
            "1265     Groundhog Day (1993)                                     2278\n",
            "1097     E.T. the Extra-Terrestrial (1982)                        2269\n",
            "2628     Star Wars: Episode I - The Phantom Menace (1999)         2250\n",
            "2997     Being John Malkovich (1999)                              2241\n",
            "318      Shawshank Redemption, The (1994)                         2227\n",
            "858      Godfather, The (1972)                                    2223\n",
            "Name: Timestamp, dtype: int64\n"
          ]
        }
      ]
    },
    {
      "cell_type": "markdown",
      "source": [
        "**The ratings for all the movies reviewed by for a particular user of user id = 2696**"
      ],
      "metadata": {
        "id": "ZNS7LXRUongL"
      }
    },
    {
      "cell_type": "code",
      "source": [
        "usr_2696 = df.loc[df.UserID==2696, \"Rating\"].sort_values(ascending=False)\n",
        "usr_2696.head(),usr_2696.shape"
      ],
      "metadata": {
        "colab": {
          "base_uri": "https://localhost:8080/"
        },
        "id": "8njYu1aeoj7v",
        "outputId": "3713103a-8da9-46f2-e7d1-6d9ddb21c088"
      },
      "execution_count": 25,
      "outputs": [
        {
          "output_type": "execute_result",
          "data": {
            "text/plain": [
              "(250014    5.0\n",
              " 609204    4.0\n",
              " 612552    4.0\n",
              " 244232    4.0\n",
              " 689379    4.0\n",
              " Name: Rating, dtype: float64, (20,))"
            ]
          },
          "metadata": {},
          "execution_count": 25
        }
      ]
    },
    {
      "cell_type": "code",
      "source": [
        "usr_2696.hist()"
      ],
      "metadata": {
        "colab": {
          "base_uri": "https://localhost:8080/",
          "height": 506
        },
        "id": "PD0Nuqv7owZm",
        "outputId": "434b77d5-c6ab-4e74-c4f7-00b257d0fa87"
      },
      "execution_count": 26,
      "outputs": [
        {
          "output_type": "execute_result",
          "data": {
            "text/plain": [
              "<matplotlib.axes._subplots.AxesSubplot at 0x7fb6251b9b90>"
            ]
          },
          "metadata": {},
          "execution_count": 26
        },
        {
          "output_type": "display_data",
          "data": {
            "text/plain": [
              "<Figure size 800x550 with 1 Axes>"
            ],
            "image/png": "[encoded data removed]"
          },
          "metadata": {}
        }
      ]
    },
    {
      "cell_type": "markdown",
      "source": [
        "**Finding all the unique genres**"
      ],
      "metadata": {
        "id": "S3u7RA83o1ug"
      }
    },
    {
      "cell_type": "code",
      "source": [
        "df.Genres.unique()"
      ],
      "metadata": {
        "colab": {
          "base_uri": "https://localhost:8080/"
        },
        "id": "rRn4vfyEoya3",
        "outputId": "4b8221c1-b1a0-4485-ebe6-261e38542ba7"
      },
      "execution_count": 27,
      "outputs": [
        {
          "output_type": "execute_result",
          "data": {
            "text/plain": [
              "array(['Drama', \"Animation|Children's|Musical\", 'Musical|Romance',\n",
              "       \"Animation|Children's|Comedy\", 'Action|Adventure|Comedy|Romance',\n",
              "       'Action|Adventure|Drama', 'Comedy|Drama',\n",
              "       \"Adventure|Children's|Drama|Musical\", 'Musical', 'Comedy',\n",
              "       \"Animation|Children's\", 'Comedy|Fantasy', 'Animation',\n",
              "       'Comedy|Sci-Fi', 'Drama|War', 'Romance',\n",
              "       \"Animation|Children's|Musical|Romance\",\n",
              "       \"Children's|Drama|Fantasy|Sci-Fi\", 'Drama|Romance',\n",
              "       'Animation|Comedy|Thriller',\n",
              "       \"Adventure|Animation|Children's|Comedy|Musical\",\n",
              "       \"Animation|Children's|Comedy|Musical\", 'Thriller',\n",
              "       'Action|Crime|Romance', 'Action|Adventure|Fantasy|Sci-Fi',\n",
              "       \"Children's|Comedy|Musical\", 'Action|Drama|War',\n",
              "       \"Children's|Drama\", 'Crime|Drama|Thriller', 'Action|Crime|Drama',\n",
              "       'Action|Adventure|Mystery', 'Crime|Drama',\n",
              "       'Action|Adventure|Sci-Fi|Thriller',\n",
              "       'Action|Adventure|Romance|Sci-Fi|War', 'Action|Thriller',\n",
              "       'Action|Drama', 'Comedy|Drama|Western', 'Action|Adventure|Crime',\n",
              "       'Action|Crime|Mystery|Thriller', 'Comedy|Drama|Romance',\n",
              "       'Comedy|Drama|War', 'Drama|Sci-Fi', 'Action|Drama|Thriller',\n",
              "       'Action|Comedy|Western', 'Adventure|Comedy|Drama',\n",
              "       'Drama|Thriller', 'Comedy|Romance',\n",
              "       'Action|Drama|Romance|Thriller', 'Action|Crime|Thriller',\n",
              "       'Action|Sci-Fi|Thriller', 'Action|Horror|Sci-Fi', 'Action|Sci-Fi',\n",
              "       'Action|Romance|War', 'Adventure|Drama|Romance|Sci-Fi',\n",
              "       'Action|Adventure|Sci-Fi', 'Drama|Romance|War',\n",
              "       'Action|Drama|Romance', 'Crime|Drama|Film-Noir|Thriller',\n",
              "       'Adventure|Drama|Western', 'Action|Adventure|Drama|Sci-Fi|War',\n",
              "       'Action|Adventure|Thriller', 'Action|Adventure|Romance|Thriller',\n",
              "       'Action|Adventure', 'Comedy|Horror', 'Action|Crime|Drama|Thriller',\n",
              "       'Action|Mystery|Romance|Thriller', 'Action|Romance|Thriller',\n",
              "       'Action|Comedy|Drama', 'Action', 'Action|Sci-Fi|War',\n",
              "       'Action|Comedy|Crime|Drama', 'Action|Adventure|Romance',\n",
              "       'Comedy|Romance|War', 'Comedy|Thriller', 'Action|Adventure|Comedy',\n",
              "       'Action|Comedy', 'Adventure|Thriller', 'Action|Adventure|Fantasy',\n",
              "       'Action|Adventure|Horror', 'Action|Adventure|Comedy|Sci-Fi',\n",
              "       'Action|Adventure|Comedy|Horror', 'Western', 'Adventure|Comedy',\n",
              "       'Adventure|Drama', 'Action|Adventure|Horror|Thriller',\n",
              "       'Comedy|Western', \"Animation|Children's|Comedy|Musical|Romance\",\n",
              "       'Action|Western', 'Action|Horror|Sci-Fi|Thriller', 'Action|Horror',\n",
              "       'Adventure|Animation|Film-Noir', 'Drama|Romance|Thriller',\n",
              "       'Crime|Drama|Romance|Thriller', 'Crime|Thriller',\n",
              "       'Animation|Comedy', 'Documentary',\n",
              "       'Crime|Film-Noir|Mystery|Thriller', 'Drama|Horror',\n",
              "       'Mystery|Sci-Fi|Thriller', 'Drama|Mystery', 'Horror|Romance',\n",
              "       'Horror|Sci-Fi', 'Horror', 'Sci-Fi|Thriller', 'Crime',\n",
              "       'Action|Crime', 'Crime|Horror', 'Drama|Mystery|Thriller',\n",
              "       'Comedy|Crime', 'Drama|Sci-Fi|Thriller', \"Children's|Comedy\",\n",
              "       'Horror|Mystery|Thriller', 'Film-Noir|Mystery',\n",
              "       'Comedy|Crime|Mystery|Thriller', 'Drama|Musical',\n",
              "       'Adventure|Sci-Fi', \"Children's|Comedy|Drama\", 'Action|Romance',\n",
              "       \"Adventure|Animation|Children's|Musical\", 'Comedy|Musical',\n",
              "       \"Children's|Fantasy|Musical\", \"Children's|Comedy|Western\",\n",
              "       'Drama|Romance|War|Western', \"Adventure|Children's|Comedy\",\n",
              "       'Comedy|Fantasy|Romance', 'Comedy|Musical|Romance',\n",
              "       \"Adventure|Children's|Drama\", 'Action|Drama|Thriller|War',\n",
              "       'Drama|Thriller|War', 'Adventure|Animation|Sci-Fi|Thriller',\n",
              "       'Animation|Sci-Fi', 'Comedy|Crime|Drama|Mystery',\n",
              "       'Crime|Drama|Mystery', 'Action|Comedy|Sci-Fi|Thriller',\n",
              "       'Comedy|Crime|Fantasy', 'Horror|Sci-Fi|Thriller',\n",
              "       \"Adventure|Children's|Comedy|Fantasy|Sci-Fi\",\n",
              "       'Film-Noir|Mystery|Thriller', 'Adventure', 'Comedy|War',\n",
              "       'Comedy|Romance|Thriller', \"Action|Children's|Fantasy\",\n",
              "       \"Adventure|Children's|Fantasy\", 'Action|Adventure|Comedy|Crime',\n",
              "       'Adventure|Musical', \"Animation|Children's|Drama|Fantasy\",\n",
              "       'Comedy|Mystery|Thriller', 'Action|Adventure|Crime|Drama',\n",
              "       \"Children's|Fantasy|Sci-Fi\", \"Adventure|Children's\", 'War',\n",
              "       'Comedy|Horror|Musical|Sci-Fi', \"Children's|Comedy|Fantasy\",\n",
              "       'Sci-Fi|War', \"Animation|Children's|Fantasy|Musical\",\n",
              "       \"Children's|Sci-Fi\", \"Adventure|Children's|Fantasy|Sci-Fi\",\n",
              "       'Mystery|Thriller', 'Comedy|Horror|Musical',\n",
              "       'Action|Horror|Thriller', 'Adventure|Fantasy',\n",
              "       'Drama|Mystery|Sci-Fi|Thriller', 'Crime|Drama|Sci-Fi',\n",
              "       \"Adventure|Children's|Musical\", 'Action|Sci-Fi|Thriller|War',\n",
              "       'Adventure|War', 'Action|Adventure|Romance|War',\n",
              "       'Action|Drama|Fantasy|Romance', 'Adventure|Comedy|Sci-Fi',\n",
              "       'Comedy|Sci-Fi|Western', 'Action|Adventure|Comedy|Horror|Sci-Fi',\n",
              "       \"Adventure|Children's|Comedy|Fantasy\", 'Film-Noir|Sci-Fi',\n",
              "       'Drama|Fantasy', \"Children's|Drama|Fantasy\", \"Children's|Fantasy\",\n",
              "       'Fantasy|Sci-Fi', 'Action|Comedy|Musical',\n",
              "       'Adventure|Fantasy|Sci-Fi', 'Action|Adventure|Sci-Fi|War',\n",
              "       \"Action|Adventure|Children's|Comedy\",\n",
              "       \"Adventure|Children's|Drama|Romance\",\n",
              "       \"Adventure|Children's|Sci-Fi\", \"Children's\",\n",
              "       'Comedy|Drama|Musical', 'Comedy|Fantasy|Romance|Sci-Fi',\n",
              "       'Comedy|Crime|Drama', 'Sci-Fi', 'Adventure|Fantasy|Romance',\n",
              "       'Adventure|Romance', 'Adventure|Western', 'Action|Drama|Mystery',\n",
              "       'Adventure|Animation|Sci-Fi', 'Adventure|Romance|Sci-Fi',\n",
              "       'Horror|Thriller', 'Action|Adventure|Mystery|Sci-Fi',\n",
              "       'Adventure|Drama|Thriller', 'Comedy|Horror|Thriller',\n",
              "       'Action|Comedy|Crime|Horror|Thriller',\n",
              "       'Crime|Horror|Mystery|Thriller', 'Crime|Horror|Thriller',\n",
              "       'Crime|Drama|Mystery|Thriller', 'Animation|Musical',\n",
              "       'Action|Sci-Fi|Western', 'Crime|Drama|Film-Noir',\n",
              "       'Adventure|Sci-Fi|Thriller', 'Drama|Fantasy|Romance|Thriller',\n",
              "       'Mystery|Sci-Fi', 'Action|Crime|Sci-Fi', 'Comedy|Mystery',\n",
              "       'Action|Romance|Sci-Fi', 'Crime|Film-Noir|Mystery',\n",
              "       'Comedy|Drama|Sci-Fi', 'Sci-Fi|Thriller|War', 'Film-Noir|Thriller',\n",
              "       'Action|Adventure|Animation|Horror|Sci-Fi',\n",
              "       'Action|Sci-Fi|Thriller|Western', 'Comedy|Horror|Sci-Fi',\n",
              "       'Crime|Film-Noir|Thriller', 'Comedy|Crime|Thriller',\n",
              "       'Film-Noir|Sci-Fi|Thriller',\n",
              "       \"Adventure|Animation|Children's|Sci-Fi\",\n",
              "       'Action|Adventure|Drama|Romance', \"Children's|Musical\",\n",
              "       'Action|Comedy|Musical|Sci-Fi', 'Action|Drama|Sci-Fi|Thriller',\n",
              "       'Action|Comedy|Fantasy', 'Action|War', 'Action|Comedy|Sci-Fi|War',\n",
              "       'Comedy|Crime|Horror', 'Action|Comedy|War',\n",
              "       \"Action|Adventure|Children's|Sci-Fi\", \"Action|Children's\",\n",
              "       'Comedy|Documentary', 'Action|Adventure|Animation',\n",
              "       'Action|Mystery|Thriller',\n",
              "       \"Action|Animation|Children's|Sci-Fi|Thriller|War\",\n",
              "       'Crime|Drama|Romance', 'Crime|Film-Noir',\n",
              "       'Mystery|Romance|Thriller', 'Comedy|Mystery|Romance|Thriller',\n",
              "       'Action|Adventure|Sci-Fi|Thriller|War',\n",
              "       'Adventure|Crime|Sci-Fi|Thriller', 'Action|Adventure|Western',\n",
              "       \"Animation|Children's|Fantasy|War\", 'Action|Adventure|Comedy|War',\n",
              "       \"Children's|Comedy|Sci-Fi\",\n",
              "       \"Adventure|Animation|Children's|Comedy|Fantasy\",\n",
              "       'Drama|Musical|War', 'Drama|Mystery|Romance',\n",
              "       'Adventure|Drama|Romance', 'Film-Noir',\n",
              "       'Film-Noir|Romance|Thriller', 'Drama|Film-Noir',\n",
              "       'Romance|Thriller', 'Action|Adventure|War', 'Mystery',\n",
              "       'Action|Adventure|Drama|Thriller', 'Musical|Romance|War',\n",
              "       'Drama|Western', 'Action|Drama|Mystery|Romance|Thriller',\n",
              "       'Adventure|Comedy|Musical', 'Documentary|Musical',\n",
              "       'Action|Thriller|War', 'Adventure|Comedy|Romance',\n",
              "       \"Adventure|Children's|Comedy|Fantasy|Romance\", 'Romance|War',\n",
              "       'Comedy|Romance|Sci-Fi', 'Action|Mystery|Sci-Fi|Thriller',\n",
              "       \"Children's|Horror\", 'Adventure|Musical|Romance',\n",
              "       \"Adventure|Children's|Comedy|Musical\", \"Children's|Comedy|Mystery\",\n",
              "       'Action|Comedy|Romance|Thriller', 'Action|Drama|Western',\n",
              "       \"Animation|Children's|Comedy|Romance\", 'Comedy|Mystery|Romance',\n",
              "       'Action|Crime|Mystery', 'Comedy|Drama|Thriller', 'Musical|War',\n",
              "       'Documentary|Drama', 'Action|Adventure|Crime|Thriller',\n",
              "       \"Action|Adventure|Children's\", \"Adventure|Children's|Romance\",\n",
              "       \"Adventure|Animation|Children's\",\n",
              "       \"Action|Adventure|Animation|Children's|Fantasy\",\n",
              "       \"Adventure|Animation|Children's|Fantasy\",\n",
              "       'Drama|Film-Noir|Thriller', 'Crime|Mystery', 'Documentary|War',\n",
              "       'Action|Comedy|Crime', 'Drama|Romance|Sci-Fi', 'Horror|Mystery',\n",
              "       'Drama|Horror|Thriller', \"Action|Adventure|Children's|Fantasy\",\n",
              "       'Animation|Mystery', 'Drama|Romance|Western', 'Romance|Western',\n",
              "       'Comedy|Film-Noir|Thriller', 'Fantasy', 'Film-Noir|Horror'],\n",
              "      dtype=object)"
            ]
          },
          "metadata": {},
          "execution_count": 27
        }
      ]
    },
    {
      "cell_type": "code",
      "source": [
        "Genres_list = df.Genres.tolist()\n",
        "genre_list = []\n",
        "i = 0\n",
        "while(i<len(Genres_list)):\n",
        "    genre_list+= Genres_list[i].split('|')\n",
        "    i+=1"
      ],
      "metadata": {
        "id": "hNi4g3Uto5gv"
      },
      "execution_count": 28,
      "outputs": []
    },
    {
      "cell_type": "code",
      "source": [
        "unique_gen = list(set(genre_list))\n",
        "print(unique_gen)\n",
        "print()\n",
        "print(\"Length of the unique Genre : \",len(unique_gen))"
      ],
      "metadata": {
        "colab": {
          "base_uri": "https://localhost:8080/"
        },
        "id": "iBRAZv4Fo-MO",
        "outputId": "1d6bade2-5f4b-4f8c-dd23-e5740dc608ba"
      },
      "execution_count": 29,
      "outputs": [
        {
          "output_type": "stream",
          "name": "stdout",
          "text": [
            "['Musical', 'Animation', 'Fantasy', 'Film-Noir', 'Drama', 'Action', 'Crime', 'Sci-Fi', 'Thriller', 'Romance', 'Horror', 'Western', 'War', \"Children's\", 'Documentary', 'Comedy', 'Adventure', 'Mystery']\n",
            "\n",
            "Length of the unique Genre :  18\n"
          ]
        }
      ]
    },
    {
      "cell_type": "markdown",
      "source": [
        "**Creating a separate column for each genre category with a one-hot encoding ( 1 and 0)**"
      ],
      "metadata": {
        "id": "dXiExEsfpEF2"
      }
    },
    {
      "cell_type": "code",
      "source": [
        "new_data = pd.concat([df,df.Genres.str.get_dummies()], axis=1)\n",
        "print(new_data.columns)"
      ],
      "metadata": {
        "colab": {
          "base_uri": "https://localhost:8080/"
        },
        "id": "Vyh_UHv3pBPO",
        "outputId": "90269d55-637e-4b94-8010-69e49aefc1ad"
      },
      "execution_count": 30,
      "outputs": [
        {
          "output_type": "stream",
          "name": "stdout",
          "text": [
            "Index(['UserID', 'MovieID', 'Rating', 'Timestamp', 'Gender', 'Age',\n",
            "       'Occupation', 'Zip-code', 'Title', 'Genres', 'Action', 'Adventure',\n",
            "       'Animation', 'Children's', 'Comedy', 'Crime', 'Documentary', 'Drama',\n",
            "       'Fantasy', 'Film-Noir', 'Horror', 'Musical', 'Mystery', 'Romance',\n",
            "       'Sci-Fi', 'Thriller', 'War', 'Western'],\n",
            "      dtype='object')\n"
          ]
        }
      ]
    },
    {
      "cell_type": "code",
      "source": [
        "\n",
        "new_data.head()"
      ],
      "metadata": {
        "colab": {
          "base_uri": "https://localhost:8080/",
          "height": 751
        },
        "id": "A5d8iwtJpJYH",
        "outputId": "e551f57e-616b-45de-b988-ae00357e0ac9"
      },
      "execution_count": 31,
      "outputs": [
        {
          "output_type": "execute_result",
          "data": {
            "text/plain": [
              "   UserID  MovieID  Rating    Timestamp Gender   Age  Occupation Zip-code  \\\n",
              "0     1.0     1193     5.0  978300760.0      F   1.0        10.0    48067   \n",
              "1     2.0     1193     5.0  978298413.0      M  56.0        16.0    70072   \n",
              "2    12.0     1193     4.0  978220179.0      M  25.0        12.0    32793   \n",
              "3    15.0     1193     4.0  978199279.0      M  25.0         7.0    22903   \n",
              "4    17.0     1193     5.0  978158471.0      M  50.0         1.0    95350   \n",
              "\n",
              "                                    Title Genres  ...  Fantasy  Film-Noir  \\\n",
              "0  One Flew Over the Cuckoo's Nest (1975)  Drama  ...        0          0   \n",
              "1  One Flew Over the Cuckoo's Nest (1975)  Drama  ...        0          0   \n",
              "2  One Flew Over the Cuckoo's Nest (1975)  Drama  ...        0          0   \n",
              "3  One Flew Over the Cuckoo's Nest (1975)  Drama  ...        0          0   \n",
              "4  One Flew Over the Cuckoo's Nest (1975)  Drama  ...        0          0   \n",
              "\n",
              "   Horror  Musical  Mystery  Romance  Sci-Fi  Thriller  War  Western  \n",
              "0       0        0        0        0       0         0    0        0  \n",
              "1       0        0        0        0       0         0    0        0  \n",
              "2       0        0        0        0       0         0    0        0  \n",
              "3       0        0        0        0       0         0    0        0  \n",
              "4       0        0        0        0       0         0    0        0  \n",
              "\n",
              "[5 rows x 28 columns]"
            ],
            "text/html": [
              "\n",
              "  <div id=\"df-3a662448-3085-4be9-b7a7-682eab4c5ca0\">\n",
              "    <div class=\"colab-df-container\">\n",
              "      <div>\n",
              "<style scoped>\n",
              "    .dataframe tbody tr th:only-of-type {\n",
              "        vertical-align: middle;\n",
              "    }\n",
              "\n",
              "    .dataframe tbody tr th {\n",
              "        vertical-align: top;\n",
              "    }\n",
              "\n",
              "    .dataframe thead th {\n",
              "        text-align: right;\n",
              "    }\n",
              "</style>\n",
              "<table border=\"1\" class=\"dataframe\">\n",
              "  <thead>\n",
              "    <tr style=\"text-align: right;\">\n",
              "      <th></th>\n",
              "      <th>UserID</th>\n",
              "      <th>MovieID</th>\n",
              "      <th>Rating</th>\n",
              "      <th>Timestamp</th>\n",
              "      <th>Gender</th>\n",
              "      <th>Age</th>\n",
              "      <th>Occupation</th>\n",
              "      <th>Zip-code</th>\n",
              "      <th>Title</th>\n",
              "      <th>Genres</th>\n",
              "      <th>...</th>\n",
              "      <th>Fantasy</th>\n",
              "      <th>Film-Noir</th>\n",
              "      <th>Horror</th>\n",
              "      <th>Musical</th>\n",
              "      <th>Mystery</th>\n",
              "      <th>Romance</th>\n",
              "      <th>Sci-Fi</th>\n",
              "      <th>Thriller</th>\n",
              "      <th>War</th>\n",
              "      <th>Western</th>\n",
              "    </tr>\n",
              "  </thead>\n",
              "  <tbody>\n",
              "    <tr>\n",
              "      <th>0</th>\n",
              "      <td>1.0</td>\n",
              "      <td>1193</td>\n",
              "      <td>5.0</td>\n",
              "      <td>978300760.0</td>\n",
              "      <td>F</td>\n",
              "      <td>1.0</td>\n",
              "      <td>10.0</td>\n",
              "      <td>48067</td>\n",
              "      <td>One Flew Over the Cuckoo's Nest (1975)</td>\n",
              "      <td>Drama</td>\n",
              "      <td>...</td>\n",
              "      <td>0</td>\n",
              "      <td>0</td>\n",
              "      <td>0</td>\n",
              "      <td>0</td>\n",
              "      <td>0</td>\n",
              "      <td>0</td>\n",
              "      <td>0</td>\n",
              "      <td>0</td>\n",
              "      <td>0</td>\n",
              "      <td>0</td>\n",
              "    </tr>\n",
              "    <tr>\n",
              "      <th>1</th>\n",
              "      <td>2.0</td>\n",
              "      <td>1193</td>\n",
              "      <td>5.0</td>\n",
              "      <td>978298413.0</td>\n",
              "      <td>M</td>\n",
              "      <td>56.0</td>\n",
              "      <td>16.0</td>\n",
              "      <td>70072</td>\n",
              "      <td>One Flew Over the Cuckoo's Nest (1975)</td>\n",
              "      <td>Drama</td>\n",
              "      <td>...</td>\n",
              "      <td>0</td>\n",
              "      <td>0</td>\n",
              "      <td>0</td>\n",
              "      <td>0</td>\n",
              "      <td>0</td>\n",
              "      <td>0</td>\n",
              "      <td>0</td>\n",
              "      <td>0</td>\n",
              "      <td>0</td>\n",
              "      <td>0</td>\n",
              "    </tr>\n",
              "    <tr>\n",
              "      <th>2</th>\n",
              "      <td>12.0</td>\n",
              "      <td>1193</td>\n",
              "      <td>4.0</td>\n",
              "      <td>978220179.0</td>\n",
              "      <td>M</td>\n",
              "      <td>25.0</td>\n",
              "      <td>12.0</td>\n",
              "      <td>32793</td>\n",
              "      <td>One Flew Over the Cuckoo's Nest (1975)</td>\n",
              "      <td>Drama</td>\n",
              "      <td>...</td>\n",
              "      <td>0</td>\n",
              "      <td>0</td>\n",
              "      <td>0</td>\n",
              "      <td>0</td>\n",
              "      <td>0</td>\n",
              "      <td>0</td>\n",
              "      <td>0</td>\n",
              "      <td>0</td>\n",
              "      <td>0</td>\n",
              "      <td>0</td>\n",
              "    </tr>\n",
              "    <tr>\n",
              "      <th>3</th>\n",
              "      <td>15.0</td>\n",
              "      <td>1193</td>\n",
              "      <td>4.0</td>\n",
              "      <td>978199279.0</td>\n",
              "      <td>M</td>\n",
              "      <td>25.0</td>\n",
              "      <td>7.0</td>\n",
              "      <td>22903</td>\n",
              "      <td>One Flew Over the Cuckoo's Nest (1975)</td>\n",
              "      <td>Drama</td>\n",
              "      <td>...</td>\n",
              "      <td>0</td>\n",
              "      <td>0</td>\n",
              "      <td>0</td>\n",
              "      <td>0</td>\n",
              "      <td>0</td>\n",
              "      <td>0</td>\n",
              "      <td>0</td>\n",
              "      <td>0</td>\n",
              "      <td>0</td>\n",
              "      <td>0</td>\n",
              "    </tr>\n",
              "    <tr>\n",
              "      <th>4</th>\n",
              "      <td>17.0</td>\n",
              "      <td>1193</td>\n",
              "      <td>5.0</td>\n",
              "      <td>978158471.0</td>\n",
              "      <td>M</td>\n",
              "      <td>50.0</td>\n",
              "      <td>1.0</td>\n",
              "      <td>95350</td>\n",
              "      <td>One Flew Over the Cuckoo's Nest (1975)</td>\n",
              "      <td>Drama</td>\n",
              "      <td>...</td>\n",
              "      <td>0</td>\n",
              "      <td>0</td>\n",
              "      <td>0</td>\n",
              "      <td>0</td>\n",
              "      <td>0</td>\n",
              "      <td>0</td>\n",
              "      <td>0</td>\n",
              "      <td>0</td>\n",
              "      <td>0</td>\n",
              "      <td>0</td>\n",
              "    </tr>\n",
              "  </tbody>\n",
              "</table>\n",
              "<p>5 rows × 28 columns</p>\n",
              "</div>\n",
              "      <button class=\"colab-df-convert\" onclick=\"convertToInteractive('df-3a662448-3085-4be9-b7a7-682eab4c5ca0')\"\n",
              "              title=\"Convert this dataframe to an interactive table.\"\n",
              "              style=\"display:none;\">\n",
              "        \n",
              "  <svg xmlns=\"http://www.w3.org/2000/svg\" height=\"24px\"viewBox=\"0 0 24 24\"\n",
              "       width=\"24px\">\n",
              "    <path d=\"M0 0h24v24H0V0z\" fill=\"none\"/>\n",
              "    <path d=\"M18.56 5.44l.94 2.06.94-2.06 2.06-.94-2.06-.94-.94-2.06-.94 2.06-2.06.94zm-11 1L8.5 8.5l.94-2.06 2.06-.94-2.06-.94L8.5 2.5l-.94 2.06-2.06.94zm10 10l.94 2.06.94-2.06 2.06-.94-2.06-.94-.94-2.06-.94 2.06-2.06.94z\"/><path d=\"M17.41 7.96l-1.37-1.37c-.4-.4-.92-.59-1.43-.59-.52 0-1.04.2-1.43.59L10.3 9.45l-7.72 7.72c-.78.78-.78 2.05 0 2.83L4 21.41c.39.39.9.59 1.41.59.51 0 1.02-.2 1.41-.59l7.78-7.78 2.81-2.81c.8-.78.8-2.07 0-2.86zM5.41 20L4 18.59l7.72-7.72 1.47 1.35L5.41 20z\"/>\n",
              "  </svg>\n",
              "      </button>\n",
              "      \n",
              "  <style>\n",
              "    .colab-df-container {\n",
              "      display:flex;\n",
              "      flex-wrap:wrap;\n",
              "      gap: 12px;\n",
              "    }\n",
              "\n",
              "    .colab-df-convert {\n",
              "      background-color: #E8F0FE;\n",
              "      border: none;\n",
              "      border-radius: 50%;\n",
              "      cursor: pointer;\n",
              "      display: none;\n",
              "      fill: #1967D2;\n",
              "      height: 32px;\n",
              "      padding: 0 0 0 0;\n",
              "      width: 32px;\n",
              "    }\n",
              "\n",
              "    .colab-df-convert:hover {\n",
              "      background-color: #E2EBFA;\n",
              "      box-shadow: 0px 1px 2px rgba(60, 64, 67, 0.3), 0px 1px 3px 1px rgba(60, 64, 67, 0.15);\n",
              "      fill: #174EA6;\n",
              "    }\n",
              "\n",
              "    [theme=dark] .colab-df-convert {\n",
              "      background-color: #3B4455;\n",
              "      fill: #D2E3FC;\n",
              "    }\n",
              "\n",
              "    [theme=dark] .colab-df-convert:hover {\n",
              "      background-color: #434B5C;\n",
              "      box-shadow: 0px 1px 3px 1px rgba(0, 0, 0, 0.15);\n",
              "      filter: drop-shadow(0px 1px 2px rgba(0, 0, 0, 0.3));\n",
              "      fill: #FFFFFF;\n",
              "    }\n",
              "  </style>\n",
              "\n",
              "      <script>\n",
              "        const buttonEl =\n",
              "          document.querySelector('#df-3a662448-3085-4be9-b7a7-682eab4c5ca0 button.colab-df-convert');\n",
              "        buttonEl.style.display =\n",
              "          google.colab.kernel.accessAllowed ? 'block' : 'none';\n",
              "\n",
              "        async function convertToInteractive(key) {\n",
              "          const element = document.querySelector('#df-3a662448-3085-4be9-b7a7-682eab4c5ca0');\n",
              "          const dataTable =\n",
              "            await google.colab.kernel.invokeFunction('convertToInteractive',\n",
              "                                                     [key], {});\n",
              "          if (!dataTable) return;\n",
              "\n",
              "          const docLinkHtml = 'Like what you see? Visit the ' +\n",
              "            '<a target=\"_blank\" href=https://colab.research.google.com/notebooks/data_table.ipynb>data table notebook</a>'\n",
              "            + ' to learn more about interactive tables.';\n",
              "          element.innerHTML = '';\n",
              "          dataTable['output_type'] = 'display_data';\n",
              "          await google.colab.output.renderOutput(dataTable, element);\n",
              "          const docLink = document.createElement('div');\n",
              "          docLink.innerHTML = docLinkHtml;\n",
              "          element.appendChild(docLink);\n",
              "        }\n",
              "      </script>\n",
              "    </div>\n",
              "  </div>\n",
              "  "
            ]
          },
          "metadata": {},
          "execution_count": 31
        }
      ]
    },
    {
      "cell_type": "code",
      "source": [
        "df_new = new_data.drop(['Title','Zip-code','Timestamp','Genres'],axis=1)\n",
        "df_new.head()"
      ],
      "metadata": {
        "colab": {
          "base_uri": "https://localhost:8080/",
          "height": 317
        },
        "id": "CVKq0SiTpL_m",
        "outputId": "29914964-3361-47e7-c890-50923308a2f6"
      },
      "execution_count": 32,
      "outputs": [
        {
          "output_type": "execute_result",
          "data": {
            "text/plain": [
              "   UserID  MovieID  Rating Gender   Age  Occupation  Action  Adventure  \\\n",
              "0     1.0     1193     5.0      F   1.0        10.0       0          0   \n",
              "1     2.0     1193     5.0      M  56.0        16.0       0          0   \n",
              "2    12.0     1193     4.0      M  25.0        12.0       0          0   \n",
              "3    15.0     1193     4.0      M  25.0         7.0       0          0   \n",
              "4    17.0     1193     5.0      M  50.0         1.0       0          0   \n",
              "\n",
              "   Animation  Children's  ...  Fantasy  Film-Noir  Horror  Musical  Mystery  \\\n",
              "0          0           0  ...        0          0       0        0        0   \n",
              "1          0           0  ...        0          0       0        0        0   \n",
              "2          0           0  ...        0          0       0        0        0   \n",
              "3          0           0  ...        0          0       0        0        0   \n",
              "4          0           0  ...        0          0       0        0        0   \n",
              "\n",
              "   Romance  Sci-Fi  Thriller  War  Western  \n",
              "0        0       0         0    0        0  \n",
              "1        0       0         0    0        0  \n",
              "2        0       0         0    0        0  \n",
              "3        0       0         0    0        0  \n",
              "4        0       0         0    0        0  \n",
              "\n",
              "[5 rows x 24 columns]"
            ],
            "text/html": [
              "\n",
              "  <div id=\"df-2cfd5c04-ac86-4f50-a6c5-2079810f9b26\">\n",
              "    <div class=\"colab-df-container\">\n",
              "      <div>\n",
              "<style scoped>\n",
              "    .dataframe tbody tr th:only-of-type {\n",
              "        vertical-align: middle;\n",
              "    }\n",
              "\n",
              "    .dataframe tbody tr th {\n",
              "        vertical-align: top;\n",
              "    }\n",
              "\n",
              "    .dataframe thead th {\n",
              "        text-align: right;\n",
              "    }\n",
              "</style>\n",
              "<table border=\"1\" class=\"dataframe\">\n",
              "  <thead>\n",
              "    <tr style=\"text-align: right;\">\n",
              "      <th></th>\n",
              "      <th>UserID</th>\n",
              "      <th>MovieID</th>\n",
              "      <th>Rating</th>\n",
              "      <th>Gender</th>\n",
              "      <th>Age</th>\n",
              "      <th>Occupation</th>\n",
              "      <th>Action</th>\n",
              "      <th>Adventure</th>\n",
              "      <th>Animation</th>\n",
              "      <th>Children's</th>\n",
              "      <th>...</th>\n",
              "      <th>Fantasy</th>\n",
              "      <th>Film-Noir</th>\n",
              "      <th>Horror</th>\n",
              "      <th>Musical</th>\n",
              "      <th>Mystery</th>\n",
              "      <th>Romance</th>\n",
              "      <th>Sci-Fi</th>\n",
              "      <th>Thriller</th>\n",
              "      <th>War</th>\n",
              "      <th>Western</th>\n",
              "    </tr>\n",
              "  </thead>\n",
              "  <tbody>\n",
              "    <tr>\n",
              "      <th>0</th>\n",
              "      <td>1.0</td>\n",
              "      <td>1193</td>\n",
              "      <td>5.0</td>\n",
              "      <td>F</td>\n",
              "      <td>1.0</td>\n",
              "      <td>10.0</td>\n",
              "      <td>0</td>\n",
              "      <td>0</td>\n",
              "      <td>0</td>\n",
              "      <td>0</td>\n",
              "      <td>...</td>\n",
              "      <td>0</td>\n",
              "      <td>0</td>\n",
              "      <td>0</td>\n",
              "      <td>0</td>\n",
              "      <td>0</td>\n",
              "      <td>0</td>\n",
              "      <td>0</td>\n",
              "      <td>0</td>\n",
              "      <td>0</td>\n",
              "      <td>0</td>\n",
              "    </tr>\n",
              "    <tr>\n",
              "      <th>1</th>\n",
              "      <td>2.0</td>\n",
              "      <td>1193</td>\n",
              "      <td>5.0</td>\n",
              "      <td>M</td>\n",
              "      <td>56.0</td>\n",
              "      <td>16.0</td>\n",
              "      <td>0</td>\n",
              "      <td>0</td>\n",
              "      <td>0</td>\n",
              "      <td>0</td>\n",
              "      <td>...</td>\n",
              "      <td>0</td>\n",
              "      <td>0</td>\n",
              "      <td>0</td>\n",
              "      <td>0</td>\n",
              "      <td>0</td>\n",
              "      <td>0</td>\n",
              "      <td>0</td>\n",
              "      <td>0</td>\n",
              "      <td>0</td>\n",
              "      <td>0</td>\n",
              "    </tr>\n",
              "    <tr>\n",
              "      <th>2</th>\n",
              "      <td>12.0</td>\n",
              "      <td>1193</td>\n",
              "      <td>4.0</td>\n",
              "      <td>M</td>\n",
              "      <td>25.0</td>\n",
              "      <td>12.0</td>\n",
              "      <td>0</td>\n",
              "      <td>0</td>\n",
              "      <td>0</td>\n",
              "      <td>0</td>\n",
              "      <td>...</td>\n",
              "      <td>0</td>\n",
              "      <td>0</td>\n",
              "      <td>0</td>\n",
              "      <td>0</td>\n",
              "      <td>0</td>\n",
              "      <td>0</td>\n",
              "      <td>0</td>\n",
              "      <td>0</td>\n",
              "      <td>0</td>\n",
              "      <td>0</td>\n",
              "    </tr>\n",
              "    <tr>\n",
              "      <th>3</th>\n",
              "      <td>15.0</td>\n",
              "      <td>1193</td>\n",
              "      <td>4.0</td>\n",
              "      <td>M</td>\n",
              "      <td>25.0</td>\n",
              "      <td>7.0</td>\n",
              "      <td>0</td>\n",
              "      <td>0</td>\n",
              "      <td>0</td>\n",
              "      <td>0</td>\n",
              "      <td>...</td>\n",
              "      <td>0</td>\n",
              "      <td>0</td>\n",
              "      <td>0</td>\n",
              "      <td>0</td>\n",
              "      <td>0</td>\n",
              "      <td>0</td>\n",
              "      <td>0</td>\n",
              "      <td>0</td>\n",
              "      <td>0</td>\n",
              "      <td>0</td>\n",
              "    </tr>\n",
              "    <tr>\n",
              "      <th>4</th>\n",
              "      <td>17.0</td>\n",
              "      <td>1193</td>\n",
              "      <td>5.0</td>\n",
              "      <td>M</td>\n",
              "      <td>50.0</td>\n",
              "      <td>1.0</td>\n",
              "      <td>0</td>\n",
              "      <td>0</td>\n",
              "      <td>0</td>\n",
              "      <td>0</td>\n",
              "      <td>...</td>\n",
              "      <td>0</td>\n",
              "      <td>0</td>\n",
              "      <td>0</td>\n",
              "      <td>0</td>\n",
              "      <td>0</td>\n",
              "      <td>0</td>\n",
              "      <td>0</td>\n",
              "      <td>0</td>\n",
              "      <td>0</td>\n",
              "      <td>0</td>\n",
              "    </tr>\n",
              "  </tbody>\n",
              "</table>\n",
              "<p>5 rows × 24 columns</p>\n",
              "</div>\n",
              "      <button class=\"colab-df-convert\" onclick=\"convertToInteractive('df-2cfd5c04-ac86-4f50-a6c5-2079810f9b26')\"\n",
              "              title=\"Convert this dataframe to an interactive table.\"\n",
              "              style=\"display:none;\">\n",
              "        \n",
              "  <svg xmlns=\"http://www.w3.org/2000/svg\" height=\"24px\"viewBox=\"0 0 24 24\"\n",
              "       width=\"24px\">\n",
              "    <path d=\"M0 0h24v24H0V0z\" fill=\"none\"/>\n",
              "    <path d=\"M18.56 5.44l.94 2.06.94-2.06 2.06-.94-2.06-.94-.94-2.06-.94 2.06-2.06.94zm-11 1L8.5 8.5l.94-2.06 2.06-.94-2.06-.94L8.5 2.5l-.94 2.06-2.06.94zm10 10l.94 2.06.94-2.06 2.06-.94-2.06-.94-.94-2.06-.94 2.06-2.06.94z\"/><path d=\"M17.41 7.96l-1.37-1.37c-.4-.4-.92-.59-1.43-.59-.52 0-1.04.2-1.43.59L10.3 9.45l-7.72 7.72c-.78.78-.78 2.05 0 2.83L4 21.41c.39.39.9.59 1.41.59.51 0 1.02-.2 1.41-.59l7.78-7.78 2.81-2.81c.8-.78.8-2.07 0-2.86zM5.41 20L4 18.59l7.72-7.72 1.47 1.35L5.41 20z\"/>\n",
              "  </svg>\n",
              "      </button>\n",
              "      \n",
              "  <style>\n",
              "    .colab-df-container {\n",
              "      display:flex;\n",
              "      flex-wrap:wrap;\n",
              "      gap: 12px;\n",
              "    }\n",
              "\n",
              "    .colab-df-convert {\n",
              "      background-color: #E8F0FE;\n",
              "      border: none;\n",
              "      border-radius: 50%;\n",
              "      cursor: pointer;\n",
              "      display: none;\n",
              "      fill: #1967D2;\n",
              "      height: 32px;\n",
              "      padding: 0 0 0 0;\n",
              "      width: 32px;\n",
              "    }\n",
              "\n",
              "    .colab-df-convert:hover {\n",
              "      background-color: #E2EBFA;\n",
              "      box-shadow: 0px 1px 2px rgba(60, 64, 67, 0.3), 0px 1px 3px 1px rgba(60, 64, 67, 0.15);\n",
              "      fill: #174EA6;\n",
              "    }\n",
              "\n",
              "    [theme=dark] .colab-df-convert {\n",
              "      background-color: #3B4455;\n",
              "      fill: #D2E3FC;\n",
              "    }\n",
              "\n",
              "    [theme=dark] .colab-df-convert:hover {\n",
              "      background-color: #434B5C;\n",
              "      box-shadow: 0px 1px 3px 1px rgba(0, 0, 0, 0.15);\n",
              "      filter: drop-shadow(0px 1px 2px rgba(0, 0, 0, 0.3));\n",
              "      fill: #FFFFFF;\n",
              "    }\n",
              "  </style>\n",
              "\n",
              "      <script>\n",
              "        const buttonEl =\n",
              "          document.querySelector('#df-2cfd5c04-ac86-4f50-a6c5-2079810f9b26 button.colab-df-convert');\n",
              "        buttonEl.style.display =\n",
              "          google.colab.kernel.accessAllowed ? 'block' : 'none';\n",
              "\n",
              "        async function convertToInteractive(key) {\n",
              "          const element = document.querySelector('#df-2cfd5c04-ac86-4f50-a6c5-2079810f9b26');\n",
              "          const dataTable =\n",
              "            await google.colab.kernel.invokeFunction('convertToInteractive',\n",
              "                                                     [key], {});\n",
              "          if (!dataTable) return;\n",
              "\n",
              "          const docLinkHtml = 'Like what you see? Visit the ' +\n",
              "            '<a target=\"_blank\" href=https://colab.research.google.com/notebooks/data_table.ipynb>data table notebook</a>'\n",
              "            + ' to learn more about interactive tables.';\n",
              "          element.innerHTML = '';\n",
              "          dataTable['output_type'] = 'display_data';\n",
              "          await google.colab.output.renderOutput(dataTable, element);\n",
              "          const docLink = document.createElement('div');\n",
              "          docLink.innerHTML = docLinkHtml;\n",
              "          element.appendChild(docLink);\n",
              "        }\n",
              "      </script>\n",
              "    </div>\n",
              "  </div>\n",
              "  "
            ]
          },
          "metadata": {},
          "execution_count": 32
        }
      ]
    },
    {
      "cell_type": "code",
      "source": [
        "print(df_new.columns)"
      ],
      "metadata": {
        "colab": {
          "base_uri": "https://localhost:8080/"
        },
        "id": "cEfiqZbWpPIL",
        "outputId": "ef841714-e015-4eba-ecc5-625b278b33af"
      },
      "execution_count": 33,
      "outputs": [
        {
          "output_type": "stream",
          "name": "stdout",
          "text": [
            "Index(['UserID', 'MovieID', 'Rating', 'Gender', 'Age', 'Occupation', 'Action',\n",
            "       'Adventure', 'Animation', 'Children's', 'Comedy', 'Crime',\n",
            "       'Documentary', 'Drama', 'Fantasy', 'Film-Noir', 'Horror', 'Musical',\n",
            "       'Mystery', 'Romance', 'Sci-Fi', 'Thriller', 'War', 'Western'],\n",
            "      dtype='object')\n"
          ]
        }
      ]
    },
    {
      "cell_type": "markdown",
      "source": [
        "**Encoding the gender column**\n",
        "\n"
      ],
      "metadata": {
        "id": "Fq_9Ip_xpTf0"
      }
    },
    {
      "cell_type": "code",
      "source": [
        "df_new.Gender = pd.get_dummies(df_new.Gender)"
      ],
      "metadata": {
        "colab": {
          "base_uri": "https://localhost:8080/",
          "height": 311
        },
        "id": "8dR8qw28qRih",
        "outputId": "7cd7d961-4cb7-4bb2-f7d9-84483ad166b7"
      },
      "execution_count": 50,
      "outputs": [
        {
          "output_type": "error",
          "ename": "ValueError",
          "evalue": "ignored",
          "traceback": [
            "\u001b[0;31m---------------------------------------------------------------------------\u001b[0m",
            "\u001b[0;31mValueError\u001b[0m                                Traceback (most recent call last)",
            "\u001b[0;32m<ipython-input-50-1b040e58591f>\u001b[0m in \u001b[0;36m<module>\u001b[0;34m\u001b[0m\n\u001b[0;32m----> 1\u001b[0;31m \u001b[0mdf_new\u001b[0m\u001b[0;34m.\u001b[0m\u001b[0mGender\u001b[0m \u001b[0;34m=\u001b[0m \u001b[0mpd\u001b[0m\u001b[0;34m.\u001b[0m\u001b[0mget_dummies\u001b[0m\u001b[0;34m(\u001b[0m\u001b[0mdf_new\u001b[0m\u001b[0;34m.\u001b[0m\u001b[0mGender\u001b[0m\u001b[0;34m)\u001b[0m\u001b[0;34m\u001b[0m\u001b[0;34m\u001b[0m\u001b[0m\n\u001b[0m",
            "\u001b[0;32m/usr/local/lib/python3.7/dist-packages/pandas/core/generic.py\u001b[0m in \u001b[0;36m__setattr__\u001b[0;34m(self, name, value)\u001b[0m\n\u001b[1;32m   5514\u001b[0m                     \u001b[0mobject\u001b[0m\u001b[0;34m.\u001b[0m\u001b[0m__setattr__\u001b[0m\u001b[0;34m(\u001b[0m\u001b[0mself\u001b[0m\u001b[0;34m,\u001b[0m \u001b[0mname\u001b[0m\u001b[0;34m,\u001b[0m \u001b[0mvalue\u001b[0m\u001b[0;34m)\u001b[0m\u001b[0;34m\u001b[0m\u001b[0;34m\u001b[0m\u001b[0m\n\u001b[1;32m   5515\u001b[0m                 \u001b[0;32melif\u001b[0m \u001b[0mname\u001b[0m \u001b[0;32min\u001b[0m \u001b[0mself\u001b[0m\u001b[0;34m.\u001b[0m\u001b[0m_info_axis\u001b[0m\u001b[0;34m:\u001b[0m\u001b[0;34m\u001b[0m\u001b[0;34m\u001b[0m\u001b[0m\n\u001b[0;32m-> 5516\u001b[0;31m                     \u001b[0mself\u001b[0m\u001b[0;34m[\u001b[0m\u001b[0mname\u001b[0m\u001b[0;34m]\u001b[0m \u001b[0;34m=\u001b[0m \u001b[0mvalue\u001b[0m\u001b[0;34m\u001b[0m\u001b[0;34m\u001b[0m\u001b[0m\n\u001b[0m\u001b[1;32m   5517\u001b[0m                 \u001b[0;32melse\u001b[0m\u001b[0;34m:\u001b[0m\u001b[0;34m\u001b[0m\u001b[0;34m\u001b[0m\u001b[0m\n\u001b[1;32m   5518\u001b[0m                     \u001b[0mobject\u001b[0m\u001b[0;34m.\u001b[0m\u001b[0m__setattr__\u001b[0m\u001b[0;34m(\u001b[0m\u001b[0mself\u001b[0m\u001b[0;34m,\u001b[0m \u001b[0mname\u001b[0m\u001b[0;34m,\u001b[0m \u001b[0mvalue\u001b[0m\u001b[0;34m)\u001b[0m\u001b[0;34m\u001b[0m\u001b[0;34m\u001b[0m\u001b[0m\n",
            "\u001b[0;32m/usr/local/lib/python3.7/dist-packages/pandas/core/frame.py\u001b[0m in \u001b[0;36m__setitem__\u001b[0;34m(self, key, value)\u001b[0m\n\u001b[1;32m   3600\u001b[0m             \u001b[0mself\u001b[0m\u001b[0;34m.\u001b[0m\u001b[0m_setitem_array\u001b[0m\u001b[0;34m(\u001b[0m\u001b[0mkey\u001b[0m\u001b[0;34m,\u001b[0m \u001b[0mvalue\u001b[0m\u001b[0;34m)\u001b[0m\u001b[0;34m\u001b[0m\u001b[0;34m\u001b[0m\u001b[0m\n\u001b[1;32m   3601\u001b[0m         \u001b[0;32melif\u001b[0m \u001b[0misinstance\u001b[0m\u001b[0;34m(\u001b[0m\u001b[0mvalue\u001b[0m\u001b[0;34m,\u001b[0m \u001b[0mDataFrame\u001b[0m\u001b[0;34m)\u001b[0m\u001b[0;34m:\u001b[0m\u001b[0;34m\u001b[0m\u001b[0;34m\u001b[0m\u001b[0m\n\u001b[0;32m-> 3602\u001b[0;31m             \u001b[0mself\u001b[0m\u001b[0;34m.\u001b[0m\u001b[0m_set_item_frame_value\u001b[0m\u001b[0;34m(\u001b[0m\u001b[0mkey\u001b[0m\u001b[0;34m,\u001b[0m \u001b[0mvalue\u001b[0m\u001b[0;34m)\u001b[0m\u001b[0;34m\u001b[0m\u001b[0;34m\u001b[0m\u001b[0m\n\u001b[0m\u001b[1;32m   3603\u001b[0m         elif (\n\u001b[1;32m   3604\u001b[0m             \u001b[0mis_list_like\u001b[0m\u001b[0;34m(\u001b[0m\u001b[0mvalue\u001b[0m\u001b[0;34m)\u001b[0m\u001b[0;34m\u001b[0m\u001b[0;34m\u001b[0m\u001b[0m\n",
            "\u001b[0;32m/usr/local/lib/python3.7/dist-packages/pandas/core/frame.py\u001b[0m in \u001b[0;36m_set_item_frame_value\u001b[0;34m(self, key, value)\u001b[0m\n\u001b[1;32m   3727\u001b[0m             \u001b[0mlen_cols\u001b[0m \u001b[0;34m=\u001b[0m \u001b[0;36m1\u001b[0m \u001b[0;32mif\u001b[0m \u001b[0mis_scalar\u001b[0m\u001b[0;34m(\u001b[0m\u001b[0mcols\u001b[0m\u001b[0;34m)\u001b[0m \u001b[0;32melse\u001b[0m \u001b[0mlen\u001b[0m\u001b[0;34m(\u001b[0m\u001b[0mcols\u001b[0m\u001b[0;34m)\u001b[0m\u001b[0;34m\u001b[0m\u001b[0;34m\u001b[0m\u001b[0m\n\u001b[1;32m   3728\u001b[0m             \u001b[0;32mif\u001b[0m \u001b[0mlen_cols\u001b[0m \u001b[0;34m!=\u001b[0m \u001b[0mlen\u001b[0m\u001b[0;34m(\u001b[0m\u001b[0mvalue\u001b[0m\u001b[0;34m.\u001b[0m\u001b[0mcolumns\u001b[0m\u001b[0;34m)\u001b[0m\u001b[0;34m:\u001b[0m\u001b[0;34m\u001b[0m\u001b[0;34m\u001b[0m\u001b[0m\n\u001b[0;32m-> 3729\u001b[0;31m                 \u001b[0;32mraise\u001b[0m \u001b[0mValueError\u001b[0m\u001b[0;34m(\u001b[0m\u001b[0;34m\"Columns must be same length as key\"\u001b[0m\u001b[0;34m)\u001b[0m\u001b[0;34m\u001b[0m\u001b[0;34m\u001b[0m\u001b[0m\n\u001b[0m\u001b[1;32m   3730\u001b[0m \u001b[0;34m\u001b[0m\u001b[0m\n\u001b[1;32m   3731\u001b[0m             \u001b[0;31m# align right-hand-side columns if self.columns\u001b[0m\u001b[0;34m\u001b[0m\u001b[0;34m\u001b[0m\u001b[0;34m\u001b[0m\u001b[0m\n",
            "\u001b[0;31mValueError\u001b[0m: Columns must be same length as key"
          ]
        }
      ]
    },
    {
      "cell_type": "code",
      "source": [
        "x = df_new.drop(['UserID','MovieID','Rating'],axis=1)\n",
        "x.shape"
      ],
      "metadata": {
        "colab": {
          "base_uri": "https://localhost:8080/"
        },
        "id": "84Sbs2y-pYPB",
        "outputId": "21b8651a-995b-45c2-b4fa-bcc88ca59753"
      },
      "execution_count": 35,
      "outputs": [
        {
          "output_type": "execute_result",
          "data": {
            "text/plain": [
              "(1000209, 21)"
            ]
          },
          "metadata": {},
          "execution_count": 35
        }
      ]
    },
    {
      "cell_type": "markdown",
      "source": [
        "**The features affecting the ratings of any particular movie.**"
      ],
      "metadata": {
        "id": "KdCGApIgpo84"
      }
    },
    {
      "cell_type": "code",
      "source": [
        "print('The features affecting the ratings of any particular movie:')\n",
        "print()\n",
        "print(x.columns)"
      ],
      "metadata": {
        "colab": {
          "base_uri": "https://localhost:8080/"
        },
        "id": "zk1vVqt7piVn",
        "outputId": "e846fe28-1851-40f8-a729-8b08c2c32a0d"
      },
      "execution_count": 36,
      "outputs": [
        {
          "output_type": "stream",
          "name": "stdout",
          "text": [
            "The features affecting the ratings of any particular movie:\n",
            "\n",
            "Index(['Gender', 'Age', 'Occupation', 'Action', 'Adventure', 'Animation',\n",
            "       'Children's', 'Comedy', 'Crime', 'Documentary', 'Drama', 'Fantasy',\n",
            "       'Film-Noir', 'Horror', 'Musical', 'Mystery', 'Romance', 'Sci-Fi',\n",
            "       'Thriller', 'War', 'Western'],\n",
            "      dtype='object')\n"
          ]
        }
      ]
    },
    {
      "cell_type": "code",
      "source": [
        "y = df_new.Rating\n",
        "y.shape"
      ],
      "metadata": {
        "colab": {
          "base_uri": "https://localhost:8080/"
        },
        "id": "NHfItni7p2KO",
        "outputId": "a91582a8-d97f-4697-be45-9cc480f501a9"
      },
      "execution_count": 37,
      "outputs": [
        {
          "output_type": "execute_result",
          "data": {
            "text/plain": [
              "(1000209,)"
            ]
          },
          "metadata": {},
          "execution_count": 37
        }
      ]
    },
    {
      "cell_type": "code",
      "source": [
        "x.Occupation.value_counts()"
      ],
      "metadata": {
        "colab": {
          "base_uri": "https://localhost:8080/"
        },
        "id": "iiMHKKHZp5P8",
        "outputId": "dc6574e6-2763-48e6-e9a6-9ca68b04fd7f"
      },
      "execution_count": 38,
      "outputs": [
        {
          "output_type": "execute_result",
          "data": {
            "text/plain": [
              "4.0     131032\n",
              "0.0     130499\n",
              "7.0     105425\n",
              "1.0      85351\n",
              "17.0     72816\n",
              "20.0     60397\n",
              "12.0     57214\n",
              "2.0      50068\n",
              "14.0     49109\n",
              "16.0     46021\n",
              "6.0      37205\n",
              "3.0      31623\n",
              "10.0     23290\n",
              "15.0     22951\n",
              "5.0      21850\n",
              "11.0     20563\n",
              "19.0     14904\n",
              "13.0     13754\n",
              "18.0     12086\n",
              "9.0      11345\n",
              "8.0       2706\n",
              "Name: Occupation, dtype: int64"
            ]
          },
          "metadata": {},
          "execution_count": 38
        }
      ]
    },
    {
      "cell_type": "code",
      "source": [
        "x = x.join(pd.get_dummies(x.Occupation,prefix='Occupation'))\n",
        "x.head(),x.columns"
      ],
      "metadata": {
        "colab": {
          "base_uri": "https://localhost:8080/"
        },
        "id": "Ad-u0sItp9nL",
        "outputId": "fcf34652-2a15-4ae2-c146-e491f45e48ca"
      },
      "execution_count": 39,
      "outputs": [
        {
          "output_type": "execute_result",
          "data": {
            "text/plain": [
              "(  Gender   Age  Occupation  Action  Adventure  Animation  Children's  Comedy  \\\n",
              " 0      F   1.0        10.0       0          0          0           0       0   \n",
              " 1      M  56.0        16.0       0          0          0           0       0   \n",
              " 2      M  25.0        12.0       0          0          0           0       0   \n",
              " 3      M  25.0         7.0       0          0          0           0       0   \n",
              " 4      M  50.0         1.0       0          0          0           0       0   \n",
              " \n",
              "    Crime  Documentary  ...  Occupation_11.0  Occupation_12.0  Occupation_13.0  \\\n",
              " 0      0            0  ...                0                0                0   \n",
              " 1      0            0  ...                0                0                0   \n",
              " 2      0            0  ...                0                1                0   \n",
              " 3      0            0  ...                0                0                0   \n",
              " 4      0            0  ...                0                0                0   \n",
              " \n",
              "    Occupation_14.0  Occupation_15.0  Occupation_16.0  Occupation_17.0  \\\n",
              " 0                0                0                0                0   \n",
              " 1                0                0                1                0   \n",
              " 2                0                0                0                0   \n",
              " 3                0                0                0                0   \n",
              " 4                0                0                0                0   \n",
              " \n",
              "    Occupation_18.0  Occupation_19.0  Occupation_20.0  \n",
              " 0                0                0                0  \n",
              " 1                0                0                0  \n",
              " 2                0                0                0  \n",
              " 3                0                0                0  \n",
              " 4                0                0                0  \n",
              " \n",
              " [5 rows x 42 columns],\n",
              " Index(['Gender', 'Age', 'Occupation', 'Action', 'Adventure', 'Animation',\n",
              "        'Children's', 'Comedy', 'Crime', 'Documentary', 'Drama', 'Fantasy',\n",
              "        'Film-Noir', 'Horror', 'Musical', 'Mystery', 'Romance', 'Sci-Fi',\n",
              "        'Thriller', 'War', 'Western', 'Occupation_0.0', 'Occupation_1.0',\n",
              "        'Occupation_2.0', 'Occupation_3.0', 'Occupation_4.0', 'Occupation_5.0',\n",
              "        'Occupation_6.0', 'Occupation_7.0', 'Occupation_8.0', 'Occupation_9.0',\n",
              "        'Occupation_10.0', 'Occupation_11.0', 'Occupation_12.0',\n",
              "        'Occupation_13.0', 'Occupation_14.0', 'Occupation_15.0',\n",
              "        'Occupation_16.0', 'Occupation_17.0', 'Occupation_18.0',\n",
              "        'Occupation_19.0', 'Occupation_20.0'],\n",
              "       dtype='object'))"
            ]
          },
          "metadata": {},
          "execution_count": 39
        }
      ]
    },
    {
      "cell_type": "code",
      "source": [
        "x = x.drop(['Occupation','Occupation_0.0'],axis=1)\n",
        "x.head(3),x.shape"
      ],
      "metadata": {
        "colab": {
          "base_uri": "https://localhost:8080/"
        },
        "id": "aEQMFnLkp-VS",
        "outputId": "16add69f-de67-4556-8d99-e0d9fd6b5554"
      },
      "execution_count": 40,
      "outputs": [
        {
          "output_type": "execute_result",
          "data": {
            "text/plain": [
              "(  Gender   Age  Action  Adventure  Animation  Children's  Comedy  Crime  \\\n",
              " 0      F   1.0       0          0          0           0       0      0   \n",
              " 1      M  56.0       0          0          0           0       0      0   \n",
              " 2      M  25.0       0          0          0           0       0      0   \n",
              " \n",
              "    Documentary  Drama  ...  Occupation_11.0  Occupation_12.0  Occupation_13.0  \\\n",
              " 0            0      1  ...                0                0                0   \n",
              " 1            0      1  ...                0                0                0   \n",
              " 2            0      1  ...                0                1                0   \n",
              " \n",
              "    Occupation_14.0  Occupation_15.0  Occupation_16.0  Occupation_17.0  \\\n",
              " 0                0                0                0                0   \n",
              " 1                0                0                1                0   \n",
              " 2                0                0                0                0   \n",
              " \n",
              "    Occupation_18.0  Occupation_19.0  Occupation_20.0  \n",
              " 0                0                0                0  \n",
              " 1                0                0                0  \n",
              " 2                0                0                0  \n",
              " \n",
              " [3 rows x 40 columns], (1000209, 40))"
            ]
          },
          "metadata": {},
          "execution_count": 40
        }
      ]
    }
  ]
}